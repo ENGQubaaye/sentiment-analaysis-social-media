{
 "cells": [
  {
   "cell_type": "markdown",
   "id": "8a2f3f8f",
   "metadata": {},
   "source": []
  },
  {
   "cell_type": "markdown",
   "id": "55c06fb4",
   "metadata": {},
   "source": [
    "# **Importing Libraries**"
   ]
  },
  {
   "cell_type": "code",
   "execution_count": 32,
   "id": "ae391fff",
   "metadata": {},
   "outputs": [
    {
     "name": "stderr",
     "output_type": "stream",
     "text": [
      "Unable to create process using 'C:\\Users\\Hussein Mahamed\\anaconda3\\python.exe \"C:\\Users\\Hussein Mahamed\\anaconda3\\Scripts\\pip-script.py\" install nltk'\n",
      "[nltk_data] Downloading package punkt to C:\\Users\\Hussein\n",
      "[nltk_data]     Mahamed\\AppData\\Roaming\\nltk_data...\n",
      "[nltk_data]   Package punkt is already up-to-date!\n"
     ]
    }
   ],
   "source": [
    "# numpy is a library for scientific computing. It is used for data manipulation and calculation.\n",
    "import numpy as np\n",
    "\n",
    "# pandas is a library for data analysis. It is used for data cleaning, data preprocessing, and data visualization.\n",
    "import pandas as pd\n",
    "\n",
    "# sklearn is a library for machine learning. It is used for model building and model evaluation.\n",
    "from sklearn.preprocessing import LabelEncoder\n",
    "\n",
    "# matplotlib is a library for plotting graphs. It is used for data visualization.\n",
    "import matplotlib.pyplot as plt\n",
    "\n",
    "# nltk is a library for natural language processing. It is used for text cleaning, text preprocessing, and feature extraction.\n",
    "import nltk\n",
    "\n",
    "# Install nltk library\n",
    "!pip install nltk\n",
    "\n",
    "# Download the 'punkt' package from nltk, which contains data required for tokenization.\n",
    "nltk.download('punkt')\n",
    "\n",
    "# seaborn is a library for statistical data visualization. It is used for data visualization.\n",
    "import seaborn as sns\n",
    "\n",
    "# stopwords is a module in the nltk library. It is used to remove stop words from text.\n",
    "from nltk.corpus import stopwords\n",
    "\n",
    "# Get the list of stopwords for the Somali language.\n",
    "stopwords.words('Somali')\n",
    "\n",
    "# string is a module in the Python standard library. It is used to manipulate strings.\n",
    "import string\n",
    "\n",
    "# punctuation contains a string of all punctuation marks.\n",
    "string.punctuation\n",
    "\n",
    "# PorterStemmer is a class in the nltk library. It is used to stem words.\n",
    "from nltk.stem import PorterStemmer\n",
    "\n",
    "# Create an instance of the PorterStemmer class.\n",
    "ps = PorterStemmer()\n",
    "\n",
    "# Perform stemming on the word 'loving'.\n",
    "ps.stem('loving')\n",
    "\n",
    "# wordcloud is a library for creating word clouds. It is used to visualize text data.\n",
    "\n",
    "\n",
    "# collections is a module in the Python standard library. It is used to create and manipulate collections of data.\n",
    "from collections import Counter\n",
    "\n",
    "# sklearn is a library for machine learning. It is used for model building and model evaluation.\n",
    "# TfidfVectorizer is a class in the sklearn library. It is used to create a term frequency-inverse document frequency representation of a text document.\n",
    "# CountVectorizer is a class in the sklearn library. It is used to create a bag-of-words representation of a text document.\n",
    "from sklearn.feature_extraction.text import CountVectorizer, TfidfVectorizer\n",
    "from sklearn.model_selection import train_test_split\n",
    "\n",
    "# Importing models\n",
    "\n",
    "# RandomForestClassifier is an ensemble learning method that constructs a multitude \n",
    "# of decision trees and outputs the class that is the mode of the classes predicted by individual trees.\n",
    "from sklearn.ensemble import RandomForestClassifier\n",
    "\n",
    "# GaussianNB implements the Gaussian Naive Bayes algorithm for classification. \n",
    "#It assumes that features follow a Gaussian distribution.\n",
    "from sklearn.naive_bayes import GaussianNB\n",
    "\n",
    "# MultinomialNB implements the Multinomial Naive Bayes algorithm for classification. \n",
    "#It is suitable for discrete features such as word counts.\n",
    "from sklearn.naive_bayes import MultinomialNB\n",
    "\n",
    "# BernoulliNB implements the Bernoulli Naive Bayes algorithm for classification. \n",
    "#It is suitable for binary/boolean features.\n",
    "from sklearn.naive_bayes import BernoulliNB\n",
    "\n",
    "# DecisionTreeClassifier is a classifier based on the decision tree algorithm. \n",
    "#It splits the data based on the values of the features to make predictions.\n",
    "from sklearn.tree import DecisionTreeClassifier\n",
    "\n",
    "# accuracy_score is a metric that measures the accuracy of classification models by \n",
    "#comparing the predicted labels with the true labels.\n",
    "from sklearn.metrics import accuracy_score\n",
    "\n",
    "# confusion_matrix is a metric that computes the confusion matrix to evaluate the performance of a classification model.\n",
    "from sklearn.metrics import confusion_matrix\n",
    "\n",
    "# precision_score is a metric that calculates the precision of a classification model, \n",
    "#which measures the ability to correctly identify positive samples.\n",
    "from sklearn.metrics import precision_score\n",
    "\n",
    "# AdaBoostClassifier is an ensemble learning method that combines multiple weak \n",
    "#classifiers to create a strong classifier. It adjusts the weights of the instances to focus on misclassified samples.\n",
    "from sklearn.ensemble import AdaBoostClassifier\n",
    "\n",
    "# ExtraTreesClassifier is an ensemble learning method that constructs a multitude \n",
    "#of decision trees and outputs the class that is the mode of the classes predicted by individual trees. It differs from RandomForestClassifier in the way it builds the decision trees.\n",
    "from sklearn.ensemble import ExtraTreesClassifier\n",
    "\n",
    "# LogisticRegression is a linear classification algorithm that models the probability \n",
    "#of the default class using logistic function.\n",
    "from sklearn.linear_model import LogisticRegression\n",
    "\n",
    "# KNeighborsClassifier is a classification algorithm that assigns the class based on \n",
    "#the majority vote of its k-nearest neighbors in the feature space.\n",
    "from sklearn.neighbors import KNeighborsClassifier\n",
    "\n",
    "# SVC (Support Vector Classifier) is a classification algorithm that separates data \n",
    "#points using hyperplanes and aims to maximize the margin between the classes.\n",
    "from sklearn.svm import SVC\n",
    "\n",
    "# StackingClassifier is an ensemble learning method that combines multiple classification \n",
    "#models using a meta-classifier. It trains the base models on the training data and uses the\n",
    "#predictions as input to the meta-classifier.\n",
    "from sklearn.ensemble import StackingClassifier\n",
    "\n",
    "# pickle is a module in the Python standard library used for object serialization and \n",
    "#deserialization, allowing models to be saved and loaded.\n"
   ]
  },
  {
   "cell_type": "markdown",
   "id": "ac35eb3f",
   "metadata": {},
   "source": [
    "# summar of importing libabry"
   ]
  },
  {
   "cell_type": "markdown",
   "id": "e7982178",
   "metadata": {},
   "source": [
    "#These libraries and modules collectively empower data analysts and scientists with the necessary tools to manipulate data, visualize it effectively, process and analyze text, and build and evaluate machine learning models. Their versatility and extensive functionalities make them invaluable in the field of data analysis, visualization, natural language processing, machine learning, and model evaluation."
   ]
  },
  {
   "cell_type": "markdown",
   "id": "3679cdb7",
   "metadata": {},
   "source": [
    "# **reading data**"
   ]
  },
  {
   "cell_type": "code",
   "execution_count": 33,
   "id": "dea42daf",
   "metadata": {},
   "outputs": [],
   "source": [
    "# Load dataset\n",
    "#In this code, a dataset is being loaded from a CSV file using the pd.\n",
    "#read_csv() function from the Pandas library. You'll need to replace 'alldata2.csv' with the \n",
    "#actual file path or filename of your dataset.\n",
    "df = pd.read_csv('last1.csv') # Replace with your dataset file\n",
    "\n"
   ]
  },
  {
   "cell_type": "code",
   "execution_count": 34,
   "id": "c8e3e9cf",
   "metadata": {},
   "outputs": [
    {
     "data": {
      "text/html": [
       "<div>\n",
       "<style scoped>\n",
       "    .dataframe tbody tr th:only-of-type {\n",
       "        vertical-align: middle;\n",
       "    }\n",
       "\n",
       "    .dataframe tbody tr th {\n",
       "        vertical-align: top;\n",
       "    }\n",
       "\n",
       "    .dataframe thead th {\n",
       "        text-align: right;\n",
       "    }\n",
       "</style>\n",
       "<table border=\"1\" class=\"dataframe\">\n",
       "  <thead>\n",
       "    <tr style=\"text-align: right;\">\n",
       "      <th></th>\n",
       "      <th>target</th>\n",
       "      <th>text</th>\n",
       "    </tr>\n",
       "  </thead>\n",
       "  <tbody>\n",
       "    <tr>\n",
       "      <th>7432</th>\n",
       "      <td>negative</td>\n",
       "      <td>Waxaa keeneesid keen qof yahay cawaad ma rapee...</td>\n",
       "    </tr>\n",
       "    <tr>\n",
       "      <th>7263</th>\n",
       "      <td>negative</td>\n",
       "      <td>Wararkani  waa  war  ay  soo  dhoodhoben  roob...</td>\n",
       "    </tr>\n",
       "    <tr>\n",
       "      <th>20</th>\n",
       "      <td>positive</td>\n",
       "      <td>Xiddiga reer Algeria Ismail Bennacer ayaa shee...</td>\n",
       "    </tr>\n",
       "    <tr>\n",
       "      <th>6417</th>\n",
       "      <td>negative</td>\n",
       "      <td>Dadkaa caqliga dabada laga geliyey bn somali w...</td>\n",
       "    </tr>\n",
       "    <tr>\n",
       "      <th>6972</th>\n",
       "      <td>negative</td>\n",
       "      <td>orod feeraha isku dhex yaacay dadka kala dhuum...</td>\n",
       "    </tr>\n",
       "  </tbody>\n",
       "</table>\n",
       "</div>"
      ],
      "text/plain": [
       "        target                                               text\n",
       "7432  negative  Waxaa keeneesid keen qof yahay cawaad ma rapee...\n",
       "7263  negative  Wararkani  waa  war  ay  soo  dhoodhoben  roob...\n",
       "20    positive  Xiddiga reer Algeria Ismail Bennacer ayaa shee...\n",
       "6417  negative  Dadkaa caqliga dabada laga geliyey bn somali w...\n",
       "6972  negative  orod feeraha isku dhex yaacay dadka kala dhuum..."
      ]
     },
     "execution_count": 34,
     "metadata": {},
     "output_type": "execute_result"
    }
   ],
   "source": [
    "#reading sample of data\n",
    "df.sample(5)"
   ]
  },
  {
   "cell_type": "code",
   "execution_count": 35,
   "id": "b4c93050",
   "metadata": {},
   "outputs": [
    {
     "data": {
      "text/plain": [
       "(8124, 2)"
      ]
     },
     "execution_count": 35,
     "metadata": {},
     "output_type": "execute_result"
    }
   ],
   "source": [
    "#shows shape of data\n",
    "df.shape"
   ]
  },
  {
   "cell_type": "markdown",
   "id": "af91d9ea",
   "metadata": {},
   "source": [
    "# summary of reading data"
   ]
  },
  {
   "cell_type": "markdown",
   "id": "f4093c4c",
   "metadata": {},
   "source": [
    "In conclusion, this code snippet demonstrates how to load a dataset from a CSV file using Pandas and provides examples of retrieving a random sample of data and retrieving the shape of the loaded DataFrame. These steps are often performed as an initial exploration and understanding of the dataset before further analysis or preprocessing tasks."
   ]
  },
  {
   "cell_type": "markdown",
   "id": "2cad57ac",
   "metadata": {},
   "source": [
    "## 1. Data Cleaning"
   ]
  },
  {
   "cell_type": "code",
   "execution_count": 36,
   "id": "3c81e0f5",
   "metadata": {},
   "outputs": [
    {
     "name": "stdout",
     "output_type": "stream",
     "text": [
      "<class 'pandas.core.frame.DataFrame'>\n",
      "RangeIndex: 8124 entries, 0 to 8123\n",
      "Data columns (total 2 columns):\n",
      " #   Column  Non-Null Count  Dtype \n",
      "---  ------  --------------  ----- \n",
      " 0   target  8124 non-null   object\n",
      " 1   text    8124 non-null   object\n",
      "dtypes: object(2)\n",
      "memory usage: 127.1+ KB\n"
     ]
    }
   ],
   "source": [
    "#shows information about a datasets\n",
    "#df.info() provides information about the dataset, including the column names, data types, and the number of non-null values in each column.\n",
    "df.info()"
   ]
  },
  {
   "cell_type": "code",
   "execution_count": 37,
   "id": "b9b463ff",
   "metadata": {},
   "outputs": [
    {
     "data": {
      "text/html": [
       "<div>\n",
       "<style scoped>\n",
       "    .dataframe tbody tr th:only-of-type {\n",
       "        vertical-align: middle;\n",
       "    }\n",
       "\n",
       "    .dataframe tbody tr th {\n",
       "        vertical-align: top;\n",
       "    }\n",
       "\n",
       "    .dataframe thead th {\n",
       "        text-align: right;\n",
       "    }\n",
       "</style>\n",
       "<table border=\"1\" class=\"dataframe\">\n",
       "  <thead>\n",
       "    <tr style=\"text-align: right;\">\n",
       "      <th></th>\n",
       "      <th>target</th>\n",
       "      <th>text</th>\n",
       "    </tr>\n",
       "  </thead>\n",
       "  <tbody>\n",
       "    <tr>\n",
       "      <th>8098</th>\n",
       "      <td>negative</td>\n",
       "      <td>Hooqay lugo wariridaas ano luga baasto ah ba d...</td>\n",
       "    </tr>\n",
       "    <tr>\n",
       "      <th>5648</th>\n",
       "      <td>negative</td>\n",
       "      <td>War bax balaayo shiir badan waanadaa kaaga dar...</td>\n",
       "    </tr>\n",
       "    <tr>\n",
       "      <th>3867</th>\n",
       "      <td>positive</td>\n",
       "      <td>loogana raarido in laâaantii dalku dumayo</td>\n",
       "    </tr>\n",
       "    <tr>\n",
       "      <th>98</th>\n",
       "      <td>positive</td>\n",
       "      <td>Hop# oo uu hadda ku fadhiyo Guddoomiyaha Guddi...</td>\n",
       "    </tr>\n",
       "    <tr>\n",
       "      <th>4857</th>\n",
       "      <td>positive</td>\n",
       "      <td>Bacdii oo qafaska ku daboolan ayaa waxay ku sh...</td>\n",
       "    </tr>\n",
       "  </tbody>\n",
       "</table>\n",
       "</div>"
      ],
      "text/plain": [
       "        target                                               text\n",
       "8098  negative  Hooqay lugo wariridaas ano luga baasto ah ba d...\n",
       "5648  negative  War bax balaayo shiir badan waanadaa kaaga dar...\n",
       "3867  positive          loogana raarido in laâaantii dalku dumayo\n",
       "98    positive  Hop# oo uu hadda ku fadhiyo Guddoomiyaha Guddi...\n",
       "4857  positive  Bacdii oo qafaska ku daboolan ayaa waxay ku sh..."
      ]
     },
     "execution_count": 37,
     "metadata": {},
     "output_type": "execute_result"
    }
   ],
   "source": [
    "#shows a sample of the top a data\n",
    "df.sample(5)"
   ]
  },
  {
   "cell_type": "code",
   "execution_count": 38,
   "id": "5018a1d7",
   "metadata": {},
   "outputs": [],
   "source": [
    "#The LabelEncoder object encoder is initialized for encoding the target variable.\n",
    "encoder = LabelEncoder()"
   ]
  },
  {
   "cell_type": "code",
   "execution_count": 39,
   "id": "81d6e7b8",
   "metadata": {},
   "outputs": [],
   "source": [
    "#applying a target in zero and ones\n",
    "#The target variable is encoded using encoder.fit_transform() and assigned back to the 'target' column in the DataFrame.\n",
    "\n",
    "df['target'] = encoder.fit_transform(df['target'])"
   ]
  },
  {
   "cell_type": "code",
   "execution_count": 40,
   "id": "06bb183f",
   "metadata": {},
   "outputs": [
    {
     "data": {
      "text/html": [
       "<div>\n",
       "<style scoped>\n",
       "    .dataframe tbody tr th:only-of-type {\n",
       "        vertical-align: middle;\n",
       "    }\n",
       "\n",
       "    .dataframe tbody tr th {\n",
       "        vertical-align: top;\n",
       "    }\n",
       "\n",
       "    .dataframe thead th {\n",
       "        text-align: right;\n",
       "    }\n",
       "</style>\n",
       "<table border=\"1\" class=\"dataframe\">\n",
       "  <thead>\n",
       "    <tr style=\"text-align: right;\">\n",
       "      <th></th>\n",
       "      <th>target</th>\n",
       "      <th>text</th>\n",
       "    </tr>\n",
       "  </thead>\n",
       "  <tbody>\n",
       "    <tr>\n",
       "      <th>0</th>\n",
       "      <td>1</td>\n",
       "      <td>Abaalmarin waxaa u qiimo badan tan alle xagiis...</td>\n",
       "    </tr>\n",
       "    <tr>\n",
       "      <th>1</th>\n",
       "      <td>1</td>\n",
       "      <td>Guuleyso brother geesi ilahay ha kuu barakeeyo...</td>\n",
       "    </tr>\n",
       "    <tr>\n",
       "      <th>2</th>\n",
       "      <td>1</td>\n",
       "      <td>siyaasad waxba kama taqaanid iska seexo si wal...</td>\n",
       "    </tr>\n",
       "    <tr>\n",
       "      <th>3</th>\n",
       "      <td>1</td>\n",
       "      <td>Waxaan hubaan in Faysal Cali waraabe iyo Kooxd...</td>\n",
       "    </tr>\n",
       "    <tr>\n",
       "      <th>4</th>\n",
       "      <td>1</td>\n",
       "      <td>Dagaalkiina Dani u wareegay maadama aad ka cab...</td>\n",
       "    </tr>\n",
       "  </tbody>\n",
       "</table>\n",
       "</div>"
      ],
      "text/plain": [
       "   target                                               text\n",
       "0       1  Abaalmarin waxaa u qiimo badan tan alle xagiis...\n",
       "1       1  Guuleyso brother geesi ilahay ha kuu barakeeyo...\n",
       "2       1  siyaasad waxba kama taqaanid iska seexo si wal...\n",
       "3       1  Waxaan hubaan in Faysal Cali waraabe iyo Kooxd...\n",
       "4       1  Dagaalkiina Dani u wareegay maadama aad ka cab..."
      ]
     },
     "execution_count": 40,
     "metadata": {},
     "output_type": "execute_result"
    }
   ],
   "source": [
    "\n",
    "#df.head() displays the first few rows of the DataFrame to inspect the data.\n",
    "df.head()"
   ]
  },
  {
   "cell_type": "code",
   "execution_count": 41,
   "id": "8c500910",
   "metadata": {},
   "outputs": [
    {
     "data": {
      "text/html": [
       "<div>\n",
       "<style scoped>\n",
       "    .dataframe tbody tr th:only-of-type {\n",
       "        vertical-align: middle;\n",
       "    }\n",
       "\n",
       "    .dataframe tbody tr th {\n",
       "        vertical-align: top;\n",
       "    }\n",
       "\n",
       "    .dataframe thead th {\n",
       "        text-align: right;\n",
       "    }\n",
       "</style>\n",
       "<table border=\"1\" class=\"dataframe\">\n",
       "  <thead>\n",
       "    <tr style=\"text-align: right;\">\n",
       "      <th></th>\n",
       "      <th>target</th>\n",
       "      <th>text</th>\n",
       "    </tr>\n",
       "  </thead>\n",
       "  <tbody>\n",
       "    <tr>\n",
       "      <th>8119</th>\n",
       "      <td>0</td>\n",
       "      <td>video ado yanyur wasaye laga haye ee ha isku h...</td>\n",
       "    </tr>\n",
       "    <tr>\n",
       "      <th>8120</th>\n",
       "      <td>0</td>\n",
       "      <td>Dhuuniyad dhuun dheer , Wajiga aamoodid dayeer...</td>\n",
       "    </tr>\n",
       "    <tr>\n",
       "      <th>8121</th>\n",
       "      <td>0</td>\n",
       "      <td>Kilkisha aamoodid doox dameer , Cidiyo dheer s...</td>\n",
       "    </tr>\n",
       "    <tr>\n",
       "      <th>8122</th>\n",
       "      <td>0</td>\n",
       "      <td>Dabada malaasan aa moodid Malay 6sano aasnaa ,...</td>\n",
       "    </tr>\n",
       "    <tr>\n",
       "      <th>8123</th>\n",
       "      <td>0</td>\n",
       "      <td>ado malin kaste maraq gubtay caba ma ila hadl...</td>\n",
       "    </tr>\n",
       "  </tbody>\n",
       "</table>\n",
       "</div>"
      ],
      "text/plain": [
       "      target                                               text\n",
       "8119       0  video ado yanyur wasaye laga haye ee ha isku h...\n",
       "8120       0  Dhuuniyad dhuun dheer , Wajiga aamoodid dayeer...\n",
       "8121       0  Kilkisha aamoodid doox dameer , Cidiyo dheer s...\n",
       "8122       0  Dabada malaasan aa moodid Malay 6sano aasnaa ,...\n",
       "8123       0   ado malin kaste maraq gubtay caba ma ila hadl..."
      ]
     },
     "execution_count": 41,
     "metadata": {},
     "output_type": "execute_result"
    }
   ],
   "source": [
    "#df.tail() displays the last few rows of the DataFrame to further examine the data.\n",
    "df.tail()"
   ]
  },
  {
   "cell_type": "code",
   "execution_count": 42,
   "id": "6f19b769",
   "metadata": {},
   "outputs": [
    {
     "data": {
      "text/plain": [
       "target    0\n",
       "text      0\n",
       "dtype: int64"
      ]
     },
     "execution_count": 42,
     "metadata": {},
     "output_type": "execute_result"
    }
   ],
   "source": [
    "# missing values\n",
    "#df.isnull().sum() checks for missing values in the DataFrame by calculating the sum of null values in each column.\n",
    "df.isnull().sum()"
   ]
  },
  {
   "cell_type": "code",
   "execution_count": 43,
   "id": "ac2b1849",
   "metadata": {},
   "outputs": [
    {
     "data": {
      "text/plain": [
       "0"
      ]
     },
     "execution_count": 43,
     "metadata": {},
     "output_type": "execute_result"
    }
   ],
   "source": [
    "# check for duplicate values\n",
    "df.duplicated().sum()"
   ]
  },
  {
   "cell_type": "code",
   "execution_count": 44,
   "id": "32622c97",
   "metadata": {},
   "outputs": [],
   "source": [
    "# remove duplicates\n",
    "df = df.drop_duplicates(keep='first')"
   ]
  },
  {
   "cell_type": "code",
   "execution_count": 45,
   "id": "a9e7b344",
   "metadata": {},
   "outputs": [
    {
     "data": {
      "text/plain": [
       "0"
      ]
     },
     "execution_count": 45,
     "metadata": {},
     "output_type": "execute_result"
    }
   ],
   "source": [
    "df.duplicated().sum()"
   ]
  },
  {
   "cell_type": "code",
   "execution_count": 46,
   "id": "525bcc29",
   "metadata": {},
   "outputs": [],
   "source": [
    "#df['text'] = df['text'].apply(str) converts the 'text' column to string type, ensuring consistency in data type.\n",
    "df['text'] = df['text'].apply(str)"
   ]
  },
  {
   "cell_type": "code",
   "execution_count": 47,
   "id": "f84ca31a",
   "metadata": {},
   "outputs": [],
   "source": [
    "#Function for Data Cleaning\n",
    "#The clean_tweet() function is defined to perform data cleaning tasks, such as removing special characters, URLs, and mentions from the text data.\n",
    "def clean_tweet(text):\n",
    "    return ' '.join(re.sub(\"(@[A-Za-z0-9]+)|([^0-9A-Za-z \\t])|(\\w+:\\/\\/\\S+)\", \" \", text).split())"
   ]
  },
  {
   "cell_type": "markdown",
   "id": "4ed56cf0",
   "metadata": {},
   "source": [
    "# summar of data cleaning"
   ]
  },
  {
   "cell_type": "markdown",
   "id": "abd17d3b",
   "metadata": {},
   "source": [
    "In conclusion, this code snippet demonstrates various steps commonly performed in data preprocessing and exploration. It includes handling missing values, dealing with duplicates, encoding the target variable, converting columns to the appropriate data types, and defining a function for data cleaning. These steps are crucial for preparing the data for further analysis or machine learning tasks."
   ]
  },
  {
   "cell_type": "markdown",
   "id": "fb8bd6d6",
   "metadata": {},
   "source": [
    "## 2.EDA Exploratory Data Analysis"
   ]
  },
  {
   "cell_type": "code",
   "execution_count": 48,
   "id": "7dc565ad",
   "metadata": {},
   "outputs": [
    {
     "data": {
      "text/html": [
       "<div>\n",
       "<style scoped>\n",
       "    .dataframe tbody tr th:only-of-type {\n",
       "        vertical-align: middle;\n",
       "    }\n",
       "\n",
       "    .dataframe tbody tr th {\n",
       "        vertical-align: top;\n",
       "    }\n",
       "\n",
       "    .dataframe thead th {\n",
       "        text-align: right;\n",
       "    }\n",
       "</style>\n",
       "<table border=\"1\" class=\"dataframe\">\n",
       "  <thead>\n",
       "    <tr style=\"text-align: right;\">\n",
       "      <th></th>\n",
       "      <th>target</th>\n",
       "      <th>text</th>\n",
       "    </tr>\n",
       "  </thead>\n",
       "  <tbody>\n",
       "    <tr>\n",
       "      <th>0</th>\n",
       "      <td>1</td>\n",
       "      <td>Abaalmarin waxaa u qiimo badan tan alle xagiis...</td>\n",
       "    </tr>\n",
       "    <tr>\n",
       "      <th>1</th>\n",
       "      <td>1</td>\n",
       "      <td>Guuleyso brother geesi ilahay ha kuu barakeeyo...</td>\n",
       "    </tr>\n",
       "    <tr>\n",
       "      <th>2</th>\n",
       "      <td>1</td>\n",
       "      <td>siyaasad waxba kama taqaanid iska seexo si wal...</td>\n",
       "    </tr>\n",
       "    <tr>\n",
       "      <th>3</th>\n",
       "      <td>1</td>\n",
       "      <td>Waxaan hubaan in Faysal Cali waraabe iyo Kooxd...</td>\n",
       "    </tr>\n",
       "    <tr>\n",
       "      <th>4</th>\n",
       "      <td>1</td>\n",
       "      <td>Dagaalkiina Dani u wareegay maadama aad ka cab...</td>\n",
       "    </tr>\n",
       "  </tbody>\n",
       "</table>\n",
       "</div>"
      ],
      "text/plain": [
       "   target                                               text\n",
       "0       1  Abaalmarin waxaa u qiimo badan tan alle xagiis...\n",
       "1       1  Guuleyso brother geesi ilahay ha kuu barakeeyo...\n",
       "2       1  siyaasad waxba kama taqaanid iska seexo si wal...\n",
       "3       1  Waxaan hubaan in Faysal Cali waraabe iyo Kooxd...\n",
       "4       1  Dagaalkiina Dani u wareegay maadama aad ka cab..."
      ]
     },
     "execution_count": 48,
     "metadata": {},
     "output_type": "execute_result"
    }
   ],
   "source": [
    "##df.head() displays the first few rows of the DataFrame to inspect the data.\n",
    "df.head()"
   ]
  },
  {
   "cell_type": "code",
   "execution_count": 49,
   "id": "996ed1d9",
   "metadata": {},
   "outputs": [
    {
     "name": "stdout",
     "output_type": "stream",
     "text": [
      "Total of non-Hate: 5001\n",
      "Total of hate: 3123\n"
     ]
    }
   ],
   "source": [
    "# Calculate and display the counts of two categories ('non-Hate' and 'hate') in the 'target' column of the DataFrame.\n",
    "x, y = df['target'].value_counts()\n",
    "print(\"Total of non-Hate:\", x)  # Display the count of instances labeled as 'non-Hate'.\n",
    "print(\"Total of hate:\", y)      # Display the count of instances labeled as 'hate'.\n"
   ]
  },
  {
   "cell_type": "code",
   "execution_count": 50,
   "id": "f49b1fcb",
   "metadata": {},
   "outputs": [
    {
     "data": {
      "text/plain": [
       "target\n",
       "1    5001\n",
       "0    3123\n",
       "Name: count, dtype: int64"
      ]
     },
     "execution_count": 50,
     "metadata": {},
     "output_type": "execute_result"
    }
   ],
   "source": [
    "#df['target'].value_counts() is called to display the count of each target class in the DataFrame.\n",
    "df['target'].value_counts()"
   ]
  },
  {
   "cell_type": "code",
   "execution_count": 51,
   "id": "b8cc21ab",
   "metadata": {},
   "outputs": [
    {
     "data": {
      "image/png": "[encoded data removed]",
      "text/plain": [
       "<Figure size 640x480 with 1 Axes>"
      ]
     },
     "metadata": {},
     "output_type": "display_data"
    }
   ],
   "source": [
    "#A pie chart is created using plt.pie() to visualize the class distribution. \n",
    "#The labels 'Non-Hate' and 'Hate' are assigned to the respective classes. \n",
    "#The autopct=\"%0.2f\" argument formats the percentage values displayed in the pie chart.\n",
    "plt.pie(df['target'].value_counts(), labels=['positive',' negative'],autopct=\"%0.2f\")\n",
    "plt.show()"
   ]
  },
  {
   "cell_type": "code",
   "execution_count": 52,
   "id": "de6c366f",
   "metadata": {},
   "outputs": [
    {
     "data": {
      "image/png": "[encoded data removed]",
      "text/plain": [
       "<Figure size 640x480 with 1 Axes>"
      ]
     },
     "metadata": {},
     "output_type": "display_data"
    }
   ],
   "source": [
    "# Counting the occurrences of each target class\n",
    "x = df['target'].value_counts()\n",
    "\n",
    "# Storing the class names and counts\n",
    "name = x.index\n",
    "count = x.values\n",
    "\n",
    "# Creating a bar chart to visualize the class distribution\n",
    "plt.bar(name, count, color=['blue', 'red'])  # Setting colors for the bars\n",
    "plt.xticks(ticks=[0, 1], labels=[ ' negative','positive'], rotation='vertical')  # Rotating x-axis labels for better readability\n",
    "\n",
    "# Adding labels to indicate non-hate and hate categories\n",
    "plt.xlabel('Categories')\n",
    "plt.ylabel('Count')\n",
    "plt.title('Class Distribution')\n",
    "\n",
    "plt.show()"
   ]
  },
  {
   "cell_type": "code",
   "execution_count": 53,
   "id": "35152bc6",
   "metadata": {},
   "outputs": [],
   "source": [
    "#The number of characters in each text is calculated using df['text'].apply(len) and stored in the column 'num_characters'.\n",
    "df['num_characters'] = df['text'].apply(len)"
   ]
  },
  {
   "cell_type": "code",
   "execution_count": 54,
   "id": "3a2a2606",
   "metadata": {},
   "outputs": [
    {
     "data": {
      "text/html": [
       "<div>\n",
       "<style scoped>\n",
       "    .dataframe tbody tr th:only-of-type {\n",
       "        vertical-align: middle;\n",
       "    }\n",
       "\n",
       "    .dataframe tbody tr th {\n",
       "        vertical-align: top;\n",
       "    }\n",
       "\n",
       "    .dataframe thead th {\n",
       "        text-align: right;\n",
       "    }\n",
       "</style>\n",
       "<table border=\"1\" class=\"dataframe\">\n",
       "  <thead>\n",
       "    <tr style=\"text-align: right;\">\n",
       "      <th></th>\n",
       "      <th>target</th>\n",
       "      <th>text</th>\n",
       "      <th>num_characters</th>\n",
       "    </tr>\n",
       "  </thead>\n",
       "  <tbody>\n",
       "    <tr>\n",
       "      <th>0</th>\n",
       "      <td>1</td>\n",
       "      <td>Abaalmarin waxaa u qiimo badan tan alle xagiis...</td>\n",
       "      <td>510</td>\n",
       "    </tr>\n",
       "    <tr>\n",
       "      <th>1</th>\n",
       "      <td>1</td>\n",
       "      <td>Guuleyso brother geesi ilahay ha kuu barakeeyo...</td>\n",
       "      <td>367</td>\n",
       "    </tr>\n",
       "    <tr>\n",
       "      <th>2</th>\n",
       "      <td>1</td>\n",
       "      <td>siyaasad waxba kama taqaanid iska seexo si wal...</td>\n",
       "      <td>333</td>\n",
       "    </tr>\n",
       "    <tr>\n",
       "      <th>3</th>\n",
       "      <td>1</td>\n",
       "      <td>Waxaan hubaan in Faysal Cali waraabe iyo Kooxd...</td>\n",
       "      <td>431</td>\n",
       "    </tr>\n",
       "    <tr>\n",
       "      <th>4</th>\n",
       "      <td>1</td>\n",
       "      <td>Dagaalkiina Dani u wareegay maadama aad ka cab...</td>\n",
       "      <td>451</td>\n",
       "    </tr>\n",
       "  </tbody>\n",
       "</table>\n",
       "</div>"
      ],
      "text/plain": [
       "   target                                               text  num_characters\n",
       "0       1  Abaalmarin waxaa u qiimo badan tan alle xagiis...             510\n",
       "1       1  Guuleyso brother geesi ilahay ha kuu barakeeyo...             367\n",
       "2       1  siyaasad waxba kama taqaanid iska seexo si wal...             333\n",
       "3       1  Waxaan hubaan in Faysal Cali waraabe iyo Kooxd...             431\n",
       "4       1  Dagaalkiina Dani u wareegay maadama aad ka cab...             451"
      ]
     },
     "execution_count": 54,
     "metadata": {},
     "output_type": "execute_result"
    }
   ],
   "source": [
    "df.head()"
   ]
  },
  {
   "cell_type": "code",
   "execution_count": 55,
   "id": "8318ea23",
   "metadata": {},
   "outputs": [],
   "source": [
    "# num of words\n",
    "#The number of words in each text is calculated using df['text'].apply(lambda x: \n",
    "#len(nltk.word_tokenize(x))) and stored in the column 'num_words'.\n",
    "df['num_words'] = df['text'].apply(lambda x:len(nltk.word_tokenize(x)))"
   ]
  },
  {
   "cell_type": "code",
   "execution_count": 56,
   "id": "920e699e",
   "metadata": {},
   "outputs": [
    {
     "data": {
      "text/html": [
       "<div>\n",
       "<style scoped>\n",
       "    .dataframe tbody tr th:only-of-type {\n",
       "        vertical-align: middle;\n",
       "    }\n",
       "\n",
       "    .dataframe tbody tr th {\n",
       "        vertical-align: top;\n",
       "    }\n",
       "\n",
       "    .dataframe thead th {\n",
       "        text-align: right;\n",
       "    }\n",
       "</style>\n",
       "<table border=\"1\" class=\"dataframe\">\n",
       "  <thead>\n",
       "    <tr style=\"text-align: right;\">\n",
       "      <th></th>\n",
       "      <th>target</th>\n",
       "      <th>text</th>\n",
       "      <th>num_characters</th>\n",
       "      <th>num_words</th>\n",
       "    </tr>\n",
       "  </thead>\n",
       "  <tbody>\n",
       "    <tr>\n",
       "      <th>0</th>\n",
       "      <td>1</td>\n",
       "      <td>Abaalmarin waxaa u qiimo badan tan alle xagiis...</td>\n",
       "      <td>510</td>\n",
       "      <td>85</td>\n",
       "    </tr>\n",
       "    <tr>\n",
       "      <th>1</th>\n",
       "      <td>1</td>\n",
       "      <td>Guuleyso brother geesi ilahay ha kuu barakeeyo...</td>\n",
       "      <td>367</td>\n",
       "      <td>62</td>\n",
       "    </tr>\n",
       "    <tr>\n",
       "      <th>2</th>\n",
       "      <td>1</td>\n",
       "      <td>siyaasad waxba kama taqaanid iska seexo si wal...</td>\n",
       "      <td>333</td>\n",
       "      <td>59</td>\n",
       "    </tr>\n",
       "    <tr>\n",
       "      <th>3</th>\n",
       "      <td>1</td>\n",
       "      <td>Waxaan hubaan in Faysal Cali waraabe iyo Kooxd...</td>\n",
       "      <td>431</td>\n",
       "      <td>75</td>\n",
       "    </tr>\n",
       "    <tr>\n",
       "      <th>4</th>\n",
       "      <td>1</td>\n",
       "      <td>Dagaalkiina Dani u wareegay maadama aad ka cab...</td>\n",
       "      <td>451</td>\n",
       "      <td>72</td>\n",
       "    </tr>\n",
       "  </tbody>\n",
       "</table>\n",
       "</div>"
      ],
      "text/plain": [
       "   target                                               text  num_characters  \\\n",
       "0       1  Abaalmarin waxaa u qiimo badan tan alle xagiis...             510   \n",
       "1       1  Guuleyso brother geesi ilahay ha kuu barakeeyo...             367   \n",
       "2       1  siyaasad waxba kama taqaanid iska seexo si wal...             333   \n",
       "3       1  Waxaan hubaan in Faysal Cali waraabe iyo Kooxd...             431   \n",
       "4       1  Dagaalkiina Dani u wareegay maadama aad ka cab...             451   \n",
       "\n",
       "   num_words  \n",
       "0         85  \n",
       "1         62  \n",
       "2         59  \n",
       "3         75  \n",
       "4         72  "
      ]
     },
     "execution_count": 56,
     "metadata": {},
     "output_type": "execute_result"
    }
   ],
   "source": [
    "df.head()"
   ]
  },
  {
   "cell_type": "code",
   "execution_count": 57,
   "id": "3a2adba4",
   "metadata": {},
   "outputs": [],
   "source": [
    "#The number of sentences in each text is calculated using df['text'].apply(lambda x: \n",
    "#len(nltk.sent_tokenize(x))) and stored in the column 'num_sentences'.\n",
    "df['num_sentences'] = df['text'].apply(lambda x:len(nltk.sent_tokenize(x)))"
   ]
  },
  {
   "cell_type": "code",
   "execution_count": 58,
   "id": "4e3c5e54",
   "metadata": {},
   "outputs": [
    {
     "data": {
      "text/html": [
       "<div>\n",
       "<style scoped>\n",
       "    .dataframe tbody tr th:only-of-type {\n",
       "        vertical-align: middle;\n",
       "    }\n",
       "\n",
       "    .dataframe tbody tr th {\n",
       "        vertical-align: top;\n",
       "    }\n",
       "\n",
       "    .dataframe thead th {\n",
       "        text-align: right;\n",
       "    }\n",
       "</style>\n",
       "<table border=\"1\" class=\"dataframe\">\n",
       "  <thead>\n",
       "    <tr style=\"text-align: right;\">\n",
       "      <th></th>\n",
       "      <th>target</th>\n",
       "      <th>text</th>\n",
       "      <th>num_characters</th>\n",
       "      <th>num_words</th>\n",
       "      <th>num_sentences</th>\n",
       "    </tr>\n",
       "  </thead>\n",
       "  <tbody>\n",
       "    <tr>\n",
       "      <th>0</th>\n",
       "      <td>1</td>\n",
       "      <td>Abaalmarin waxaa u qiimo badan tan alle xagiis...</td>\n",
       "      <td>510</td>\n",
       "      <td>85</td>\n",
       "      <td>1</td>\n",
       "    </tr>\n",
       "    <tr>\n",
       "      <th>1</th>\n",
       "      <td>1</td>\n",
       "      <td>Guuleyso brother geesi ilahay ha kuu barakeeyo...</td>\n",
       "      <td>367</td>\n",
       "      <td>62</td>\n",
       "      <td>1</td>\n",
       "    </tr>\n",
       "    <tr>\n",
       "      <th>2</th>\n",
       "      <td>1</td>\n",
       "      <td>siyaasad waxba kama taqaanid iska seexo si wal...</td>\n",
       "      <td>333</td>\n",
       "      <td>59</td>\n",
       "      <td>1</td>\n",
       "    </tr>\n",
       "    <tr>\n",
       "      <th>3</th>\n",
       "      <td>1</td>\n",
       "      <td>Waxaan hubaan in Faysal Cali waraabe iyo Kooxd...</td>\n",
       "      <td>431</td>\n",
       "      <td>75</td>\n",
       "      <td>1</td>\n",
       "    </tr>\n",
       "    <tr>\n",
       "      <th>4</th>\n",
       "      <td>1</td>\n",
       "      <td>Dagaalkiina Dani u wareegay maadama aad ka cab...</td>\n",
       "      <td>451</td>\n",
       "      <td>72</td>\n",
       "      <td>1</td>\n",
       "    </tr>\n",
       "  </tbody>\n",
       "</table>\n",
       "</div>"
      ],
      "text/plain": [
       "   target                                               text  num_characters  \\\n",
       "0       1  Abaalmarin waxaa u qiimo badan tan alle xagiis...             510   \n",
       "1       1  Guuleyso brother geesi ilahay ha kuu barakeeyo...             367   \n",
       "2       1  siyaasad waxba kama taqaanid iska seexo si wal...             333   \n",
       "3       1  Waxaan hubaan in Faysal Cali waraabe iyo Kooxd...             431   \n",
       "4       1  Dagaalkiina Dani u wareegay maadama aad ka cab...             451   \n",
       "\n",
       "   num_words  num_sentences  \n",
       "0         85              1  \n",
       "1         62              1  \n",
       "2         59              1  \n",
       "3         75              1  \n",
       "4         72              1  "
      ]
     },
     "execution_count": 58,
     "metadata": {},
     "output_type": "execute_result"
    }
   ],
   "source": [
    "df.head()"
   ]
  },
  {
   "cell_type": "code",
   "execution_count": 59,
   "id": "3d8c30f6",
   "metadata": {},
   "outputs": [
    {
     "data": {
      "text/html": [
       "<div>\n",
       "<style scoped>\n",
       "    .dataframe tbody tr th:only-of-type {\n",
       "        vertical-align: middle;\n",
       "    }\n",
       "\n",
       "    .dataframe tbody tr th {\n",
       "        vertical-align: top;\n",
       "    }\n",
       "\n",
       "    .dataframe thead th {\n",
       "        text-align: right;\n",
       "    }\n",
       "</style>\n",
       "<table border=\"1\" class=\"dataframe\">\n",
       "  <thead>\n",
       "    <tr style=\"text-align: right;\">\n",
       "      <th></th>\n",
       "      <th>num_characters</th>\n",
       "      <th>num_words</th>\n",
       "      <th>num_sentences</th>\n",
       "    </tr>\n",
       "  </thead>\n",
       "  <tbody>\n",
       "    <tr>\n",
       "      <th>count</th>\n",
       "      <td>8124.000000</td>\n",
       "      <td>8124.000000</td>\n",
       "      <td>8124.000000</td>\n",
       "    </tr>\n",
       "    <tr>\n",
       "      <th>mean</th>\n",
       "      <td>214.323363</td>\n",
       "      <td>35.077917</td>\n",
       "      <td>1.036312</td>\n",
       "    </tr>\n",
       "    <tr>\n",
       "      <th>std</th>\n",
       "      <td>124.693880</td>\n",
       "      <td>20.633509</td>\n",
       "      <td>0.228006</td>\n",
       "    </tr>\n",
       "    <tr>\n",
       "      <th>min</th>\n",
       "      <td>15.000000</td>\n",
       "      <td>3.000000</td>\n",
       "      <td>1.000000</td>\n",
       "    </tr>\n",
       "    <tr>\n",
       "      <th>25%</th>\n",
       "      <td>110.000000</td>\n",
       "      <td>18.000000</td>\n",
       "      <td>1.000000</td>\n",
       "    </tr>\n",
       "    <tr>\n",
       "      <th>50%</th>\n",
       "      <td>195.000000</td>\n",
       "      <td>31.000000</td>\n",
       "      <td>1.000000</td>\n",
       "    </tr>\n",
       "    <tr>\n",
       "      <th>75%</th>\n",
       "      <td>291.000000</td>\n",
       "      <td>48.000000</td>\n",
       "      <td>1.000000</td>\n",
       "    </tr>\n",
       "    <tr>\n",
       "      <th>max</th>\n",
       "      <td>1083.000000</td>\n",
       "      <td>187.000000</td>\n",
       "      <td>7.000000</td>\n",
       "    </tr>\n",
       "  </tbody>\n",
       "</table>\n",
       "</div>"
      ],
      "text/plain": [
       "       num_characters    num_words  num_sentences\n",
       "count     8124.000000  8124.000000    8124.000000\n",
       "mean       214.323363    35.077917       1.036312\n",
       "std        124.693880    20.633509       0.228006\n",
       "min         15.000000     3.000000       1.000000\n",
       "25%        110.000000    18.000000       1.000000\n",
       "50%        195.000000    31.000000       1.000000\n",
       "75%        291.000000    48.000000       1.000000\n",
       "max       1083.000000   187.000000       7.000000"
      ]
     },
     "execution_count": 59,
     "metadata": {},
     "output_type": "execute_result"
    }
   ],
   "source": [
    "#Descriptive statistics for the columns 'num_characters', 'num_words', \n",
    "#and 'num_sentences' of the entire dataset are obtained by using \n",
    "#df[['num_characters', 'num_words', 'num_sentences']].describe().\n",
    "df[['num_characters','num_words','num_sentences']].describe()"
   ]
  },
  {
   "cell_type": "code",
   "execution_count": 60,
   "id": "2ab64881",
   "metadata": {},
   "outputs": [
    {
     "data": {
      "text/html": [
       "<div>\n",
       "<style scoped>\n",
       "    .dataframe tbody tr th:only-of-type {\n",
       "        vertical-align: middle;\n",
       "    }\n",
       "\n",
       "    .dataframe tbody tr th {\n",
       "        vertical-align: top;\n",
       "    }\n",
       "\n",
       "    .dataframe thead th {\n",
       "        text-align: right;\n",
       "    }\n",
       "</style>\n",
       "<table border=\"1\" class=\"dataframe\">\n",
       "  <thead>\n",
       "    <tr style=\"text-align: right;\">\n",
       "      <th></th>\n",
       "      <th>num_characters</th>\n",
       "      <th>num_words</th>\n",
       "      <th>num_sentences</th>\n",
       "    </tr>\n",
       "  </thead>\n",
       "  <tbody>\n",
       "    <tr>\n",
       "      <th>count</th>\n",
       "      <td>3123.000000</td>\n",
       "      <td>3123.000000</td>\n",
       "      <td>3123.000000</td>\n",
       "    </tr>\n",
       "    <tr>\n",
       "      <th>mean</th>\n",
       "      <td>169.874800</td>\n",
       "      <td>28.831892</td>\n",
       "      <td>1.022735</td>\n",
       "    </tr>\n",
       "    <tr>\n",
       "      <th>std</th>\n",
       "      <td>83.080335</td>\n",
       "      <td>14.496622</td>\n",
       "      <td>0.232928</td>\n",
       "    </tr>\n",
       "    <tr>\n",
       "      <th>min</th>\n",
       "      <td>24.000000</td>\n",
       "      <td>3.000000</td>\n",
       "      <td>1.000000</td>\n",
       "    </tr>\n",
       "    <tr>\n",
       "      <th>25%</th>\n",
       "      <td>105.000000</td>\n",
       "      <td>18.000000</td>\n",
       "      <td>1.000000</td>\n",
       "    </tr>\n",
       "    <tr>\n",
       "      <th>50%</th>\n",
       "      <td>152.000000</td>\n",
       "      <td>26.000000</td>\n",
       "      <td>1.000000</td>\n",
       "    </tr>\n",
       "    <tr>\n",
       "      <th>75%</th>\n",
       "      <td>215.000000</td>\n",
       "      <td>36.000000</td>\n",
       "      <td>1.000000</td>\n",
       "    </tr>\n",
       "    <tr>\n",
       "      <th>max</th>\n",
       "      <td>799.000000</td>\n",
       "      <td>139.000000</td>\n",
       "      <td>7.000000</td>\n",
       "    </tr>\n",
       "  </tbody>\n",
       "</table>\n",
       "</div>"
      ],
      "text/plain": [
       "       num_characters    num_words  num_sentences\n",
       "count     3123.000000  3123.000000    3123.000000\n",
       "mean       169.874800    28.831892       1.022735\n",
       "std         83.080335    14.496622       0.232928\n",
       "min         24.000000     3.000000       1.000000\n",
       "25%        105.000000    18.000000       1.000000\n",
       "50%        152.000000    26.000000       1.000000\n",
       "75%        215.000000    36.000000       1.000000\n",
       "max        799.000000   139.000000       7.000000"
      ]
     },
     "execution_count": 60,
     "metadata": {},
     "output_type": "execute_result"
    }
   ],
   "source": [
    "# show all information about hate\n",
    "#Descriptive statistics for the columns 'num_characters', 'num_words', and \n",
    "#'num_sentences' are obtained separately for instances labeled as hate (target = 0) and \n",
    "#non-hate (target = 1) using df[df['target'] == 0][['num_characters', 'num_words', 'num_sentences']].\n",
    "#describe() and df[df['target'] == 1]\n",
    "#[['num_characters', 'num_words', 'num_sentences']].describe() respectively.\n",
    "df[df['target'] == 0][['num_characters','num_words','num_sentences']].describe()"
   ]
  },
  {
   "cell_type": "code",
   "execution_count": null,
   "id": "f9b5949f",
   "metadata": {},
   "outputs": [],
   "source": []
  },
  {
   "cell_type": "code",
   "execution_count": 61,
   "id": "d186cb91",
   "metadata": {},
   "outputs": [
    {
     "data": {
      "text/html": [
       "<div>\n",
       "<style scoped>\n",
       "    .dataframe tbody tr th:only-of-type {\n",
       "        vertical-align: middle;\n",
       "    }\n",
       "\n",
       "    .dataframe tbody tr th {\n",
       "        vertical-align: top;\n",
       "    }\n",
       "\n",
       "    .dataframe thead th {\n",
       "        text-align: right;\n",
       "    }\n",
       "</style>\n",
       "<table border=\"1\" class=\"dataframe\">\n",
       "  <thead>\n",
       "    <tr style=\"text-align: right;\">\n",
       "      <th></th>\n",
       "      <th>num_characters</th>\n",
       "      <th>num_words</th>\n",
       "      <th>num_sentences</th>\n",
       "    </tr>\n",
       "  </thead>\n",
       "  <tbody>\n",
       "    <tr>\n",
       "      <th>count</th>\n",
       "      <td>5001.000000</td>\n",
       "      <td>5001.000000</td>\n",
       "      <td>5001.000000</td>\n",
       "    </tr>\n",
       "    <tr>\n",
       "      <th>mean</th>\n",
       "      <td>242.080384</td>\n",
       "      <td>38.978404</td>\n",
       "      <td>1.044791</td>\n",
       "    </tr>\n",
       "    <tr>\n",
       "      <th>std</th>\n",
       "      <td>137.643603</td>\n",
       "      <td>22.822286</td>\n",
       "      <td>0.224485</td>\n",
       "    </tr>\n",
       "    <tr>\n",
       "      <th>min</th>\n",
       "      <td>15.000000</td>\n",
       "      <td>3.000000</td>\n",
       "      <td>1.000000</td>\n",
       "    </tr>\n",
       "    <tr>\n",
       "      <th>25%</th>\n",
       "      <td>113.000000</td>\n",
       "      <td>19.000000</td>\n",
       "      <td>1.000000</td>\n",
       "    </tr>\n",
       "    <tr>\n",
       "      <th>50%</th>\n",
       "      <td>235.000000</td>\n",
       "      <td>36.000000</td>\n",
       "      <td>1.000000</td>\n",
       "    </tr>\n",
       "    <tr>\n",
       "      <th>75%</th>\n",
       "      <td>336.000000</td>\n",
       "      <td>54.000000</td>\n",
       "      <td>1.000000</td>\n",
       "    </tr>\n",
       "    <tr>\n",
       "      <th>max</th>\n",
       "      <td>1083.000000</td>\n",
       "      <td>187.000000</td>\n",
       "      <td>4.000000</td>\n",
       "    </tr>\n",
       "  </tbody>\n",
       "</table>\n",
       "</div>"
      ],
      "text/plain": [
       "       num_characters    num_words  num_sentences\n",
       "count     5001.000000  5001.000000    5001.000000\n",
       "mean       242.080384    38.978404       1.044791\n",
       "std        137.643603    22.822286       0.224485\n",
       "min         15.000000     3.000000       1.000000\n",
       "25%        113.000000    19.000000       1.000000\n",
       "50%        235.000000    36.000000       1.000000\n",
       "75%        336.000000    54.000000       1.000000\n",
       "max       1083.000000   187.000000       4.000000"
      ]
     },
     "execution_count": 61,
     "metadata": {},
     "output_type": "execute_result"
    }
   ],
   "source": [
    "# show all information about n0n hate\n",
    "#Descriptive statistics for the columns 'num_characters', 'num_words', and \n",
    "#'num_sentences' are obtained separately for instances labeled as hate (target = 0) and \n",
    "#non-hate (target = 1) using df[df['target'] == 0][['num_characters', 'num_words', 'num_sentences']].\n",
    "#describe() and df[df['target'] == 1]\n",
    "#[['num_characters', 'num_words', 'num_sentences']].describe() respectively.\n",
    "df[df['target'] == 1][['num_characters','num_words','num_sentences']].describe()"
   ]
  },
  {
   "cell_type": "code",
   "execution_count": 62,
   "id": "e6a97ca7",
   "metadata": {},
   "outputs": [
    {
     "name": "stdout",
     "output_type": "stream",
     "text": [
      "   target                                               text  num_characters  \\\n",
      "0       1  Abaalmarin waxaa u qiimo badan tan alle xagiis...             510   \n",
      "1       1  Guuleyso brother geesi ilahay ha kuu barakeeyo...             367   \n",
      "2       1  siyaasad waxba kama taqaanid iska seexo si wal...             333   \n",
      "3       1  Waxaan hubaan in Faysal Cali waraabe iyo Kooxd...             431   \n",
      "4       1  Dagaalkiina Dani u wareegay maadama aad ka cab...             451   \n",
      "\n",
      "   num_words  num_sentences  \n",
      "0         85              1  \n",
      "1         62              1  \n",
      "2         59              1  \n",
      "3         75              1  \n",
      "4         72              1  \n"
     ]
    }
   ],
   "source": [
    "#Sentence Tokenizer\n",
    "#The provided code tokenizes the text in the \"text\" column of the DataFrame df into sentences using the nltk.\n",
    "#tokenize.sent_tokenize() function. The resulting tokenized sentences are stored in a list called token_list. \n",
    "#Then, the \"text\" column of the DataFrame is updated with the tokenized sentences using pd.DataFrame(token_list).\n",
    "token_list = []\n",
    "for token in df[\"text\"]:\n",
    "    sent = token_list.append(token)\n",
    "df[\"text\"] = pd.DataFrame(token_list)\n",
    "print(df.head())"
   ]
  },
  {
   "cell_type": "code",
   "execution_count": 63,
   "id": "97352818",
   "metadata": {},
   "outputs": [
    {
     "name": "stderr",
     "output_type": "stream",
     "text": [
      "C:\\Users\\Hussein Mahamed\\anaconda3\\Lib\\site-packages\\seaborn\\_oldcore.py:1119: FutureWarning: use_inf_as_na option is deprecated and will be removed in a future version. Convert inf values to NaN before operating instead.\n",
      "  with pd.option_context('mode.use_inf_as_na', True):\n",
      "C:\\Users\\Hussein Mahamed\\anaconda3\\Lib\\site-packages\\seaborn\\_oldcore.py:1119: FutureWarning: use_inf_as_na option is deprecated and will be removed in a future version. Convert inf values to NaN before operating instead.\n",
      "  with pd.option_context('mode.use_inf_as_na', True):\n"
     ]
    },
    {
     "data": {
      "image/png": "[encoded data removed]",
      "text/plain": [
       "<Figure size 1200x600 with 1 Axes>"
      ]
     },
     "metadata": {},
     "output_type": "display_data"
    }
   ],
   "source": [
    "plt.figure(figsize=(12, 6))\n",
    "\n",
    "# Plotting a histogram of the number of characters for instances labeled as hate (target = 1)\n",
    "sns.histplot(df[df['target'] == 1]['num_characters'], color='red')\n",
    "\n",
    "# Plotting a histogram of the number of characters for instances labeled as non-hate (target = 0)\n",
    "sns.histplot(df[df['target'] == 0]['num_characters'])\n",
    "\n",
    "\n",
    "\n",
    "# Adding a comment to describe the visualization\n",
    "plt.title('Distribution of Number of Characters')\n",
    "plt.xlabel('Number of Characters')\n",
    "plt.ylabel('Frequency')\n",
    "\n",
    "plt.show()"
   ]
  },
  {
   "cell_type": "code",
   "execution_count": 64,
   "id": "5a1532ec",
   "metadata": {},
   "outputs": [
    {
     "name": "stderr",
     "output_type": "stream",
     "text": [
      "C:\\Users\\Hussein Mahamed\\anaconda3\\Lib\\site-packages\\seaborn\\_oldcore.py:1119: FutureWarning: use_inf_as_na option is deprecated and will be removed in a future version. Convert inf values to NaN before operating instead.\n",
      "  with pd.option_context('mode.use_inf_as_na', True):\n",
      "C:\\Users\\Hussein Mahamed\\anaconda3\\Lib\\site-packages\\seaborn\\_oldcore.py:1119: FutureWarning: use_inf_as_na option is deprecated and will be removed in a future version. Convert inf values to NaN before operating instead.\n",
      "  with pd.option_context('mode.use_inf_as_na', True):\n"
     ]
    },
    {
     "data": {
      "image/png": "[encoded data removed]",
      "text/plain": [
       "<Figure size 1200x600 with 1 Axes>"
      ]
     },
     "metadata": {},
     "output_type": "display_data"
    }
   ],
   "source": [
    "plt.figure(figsize=(12, 6))\n",
    "\n",
    "# Plotting a histogram of the number of characters for instances labeled as hate (target = 1)\n",
    "sns.histplot(df[df['target'] == 1]['num_words'], color='black')\n",
    "\n",
    "# Plotting a histogram of the number of characters for instances labeled as non-hate (target = 0)\n",
    "sns.histplot(df[df['target'] == 0]['num_words'])\n",
    "\n",
    "\n",
    "\n",
    "# Adding a comment to describe the visualization\n",
    "plt.title('Distribution of Number of words')\n",
    "plt.xlabel('Number of words')\n",
    "plt.ylabel('Frequency')\n",
    "\n",
    "plt.show()"
   ]
  },
  {
   "cell_type": "code",
   "execution_count": 65,
   "id": "f7c14dac",
   "metadata": {},
   "outputs": [
    {
     "name": "stderr",
     "output_type": "stream",
     "text": [
      "C:\\Users\\Hussein Mahamed\\anaconda3\\Lib\\site-packages\\seaborn\\_oldcore.py:1119: FutureWarning: use_inf_as_na option is deprecated and will be removed in a future version. Convert inf values to NaN before operating instead.\n",
      "  with pd.option_context('mode.use_inf_as_na', True):\n",
      "C:\\Users\\Hussein Mahamed\\anaconda3\\Lib\\site-packages\\seaborn\\_oldcore.py:1119: FutureWarning: use_inf_as_na option is deprecated and will be removed in a future version. Convert inf values to NaN before operating instead.\n",
      "  with pd.option_context('mode.use_inf_as_na', True):\n"
     ]
    },
    {
     "data": {
      "text/plain": [
       "<Axes: xlabel='num_sentences', ylabel='Count'>"
      ]
     },
     "execution_count": 65,
     "metadata": {},
     "output_type": "execute_result"
    },
    {
     "data": {
      "image/png": "[encoded data removed]",
      "text/plain": [
       "<Figure size 1200x600 with 1 Axes>"
      ]
     },
     "metadata": {},
     "output_type": "display_data"
    }
   ],
   "source": [
    "plt.figure(figsize=(12,6))\n",
    "sns.histplot(df[df['target'] == 0]['num_sentences'])\n",
    "sns.histplot(df[df['target'] == 1]['num_sentences'],color='black')"
   ]
  },
  {
   "cell_type": "code",
   "execution_count": 66,
   "id": "f0773e7b",
   "metadata": {},
   "outputs": [
    {
     "data": {
      "text/plain": [
       "<seaborn.axisgrid.FacetGrid at 0x1c48e1c4390>"
      ]
     },
     "execution_count": 66,
     "metadata": {},
     "output_type": "execute_result"
    },
    {
     "data": {
      "image/png": "[encoded data removed]",
      "text/plain": [
       "<Figure size 600x300 with 2 Axes>"
      ]
     },
     "metadata": {},
     "output_type": "display_data"
    }
   ],
   "source": [
    "#Basic visualization of data using histograms\n",
    "# FacetGrid- Multi-plot grid for plotting conditional relationships\n",
    "graph = sns.FacetGrid(data=df, col='target')\n",
    "graph.map(plt.hist, 'num_words', bins=15)"
   ]
  },
  {
   "cell_type": "code",
   "execution_count": 67,
   "id": "44c2b6d0",
   "metadata": {},
   "outputs": [
    {
     "name": "stderr",
     "output_type": "stream",
     "text": [
      "C:\\Users\\Hussein Mahamed\\AppData\\Local\\Temp\\ipykernel_17992\\3133748385.py:4: FutureWarning: \n",
      "\n",
      "`shade` is now deprecated in favor of `fill`; setting `fill=True`.\n",
      "This will become an error in seaborn v0.14.0; please update your code.\n",
      "\n",
      "  sns.kdeplot(data=iris,color='green',shade=True)\n",
      "C:\\Users\\Hussein Mahamed\\anaconda3\\Lib\\site-packages\\seaborn\\_oldcore.py:1119: FutureWarning: use_inf_as_na option is deprecated and will be removed in a future version. Convert inf values to NaN before operating instead.\n",
      "  with pd.option_context('mode.use_inf_as_na', True):\n"
     ]
    },
    {
     "data": {
      "text/plain": [
       "<Axes: xlabel='num_characters', ylabel='Density'>"
      ]
     },
     "execution_count": 67,
     "metadata": {},
     "output_type": "execute_result"
    },
    {
     "data": {
      "image/png": "[encoded data removed]",
      "text/plain": [
       "<Figure size 1400x500 with 1 Axes>"
      ]
     },
     "metadata": {},
     "output_type": "display_data"
    }
   ],
   "source": [
    "# Kernel Distribution Estimation Plot which depicts the probability density\n",
    "plt.figure(figsize=(14,5))\n",
    "iris = df['num_characters']\n",
    "sns.kdeplot(data=iris,color='green',shade=True)"
   ]
  },
  {
   "cell_type": "code",
   "execution_count": 68,
   "id": "8c44f867",
   "metadata": {},
   "outputs": [
    {
     "name": "stderr",
     "output_type": "stream",
     "text": [
      "C:\\Users\\Hussein Mahamed\\anaconda3\\Lib\\site-packages\\seaborn\\_oldcore.py:1119: FutureWarning: use_inf_as_na option is deprecated and will be removed in a future version. Convert inf values to NaN before operating instead.\n",
      "  with pd.option_context('mode.use_inf_as_na', True):\n",
      "C:\\Users\\Hussein Mahamed\\anaconda3\\Lib\\site-packages\\seaborn\\_oldcore.py:1119: FutureWarning: use_inf_as_na option is deprecated and will be removed in a future version. Convert inf values to NaN before operating instead.\n",
      "  with pd.option_context('mode.use_inf_as_na', True):\n",
      "C:\\Users\\Hussein Mahamed\\anaconda3\\Lib\\site-packages\\seaborn\\_oldcore.py:1119: FutureWarning: use_inf_as_na option is deprecated and will be removed in a future version. Convert inf values to NaN before operating instead.\n",
      "  with pd.option_context('mode.use_inf_as_na', True):\n"
     ]
    },
    {
     "data": {
      "text/plain": [
       "<seaborn.axisgrid.PairGrid at 0x1c48e5ce390>"
      ]
     },
     "execution_count": 68,
     "metadata": {},
     "output_type": "execute_result"
    },
    {
     "data": {
      "image/png": "[encoded data removed]",
      "text/plain": [
       "<Figure size 808.875x750 with 12 Axes>"
      ]
     },
     "metadata": {},
     "output_type": "display_data"
    }
   ],
   "source": [
    "#shows a pairplot in a target\n",
    "sns.pairplot(df,hue='target')"
   ]
  },
  {
   "cell_type": "code",
   "execution_count": 69,
   "id": "e8f5a80b",
   "metadata": {},
   "outputs": [],
   "source": [
    "#shows all information in heatmap\n",
    "#sns.heatmap(df.corr(),annot=True)"
   ]
  },
  {
   "cell_type": "code",
   "execution_count": 70,
   "id": "0e804c9a",
   "metadata": {},
   "outputs": [
    {
     "data": {
      "text/html": [
       "<div>\n",
       "<style scoped>\n",
       "    .dataframe tbody tr th:only-of-type {\n",
       "        vertical-align: middle;\n",
       "    }\n",
       "\n",
       "    .dataframe tbody tr th {\n",
       "        vertical-align: top;\n",
       "    }\n",
       "\n",
       "    .dataframe thead th {\n",
       "        text-align: right;\n",
       "    }\n",
       "</style>\n",
       "<table border=\"1\" class=\"dataframe\">\n",
       "  <thead>\n",
       "    <tr style=\"text-align: right;\">\n",
       "      <th></th>\n",
       "      <th>target</th>\n",
       "      <th>text</th>\n",
       "      <th>num_characters</th>\n",
       "      <th>num_words</th>\n",
       "      <th>num_sentences</th>\n",
       "    </tr>\n",
       "  </thead>\n",
       "  <tbody>\n",
       "    <tr>\n",
       "      <th>0</th>\n",
       "      <td>1</td>\n",
       "      <td>Abaalmarin waxaa u qiimo badan tan alle xagiis...</td>\n",
       "      <td>510</td>\n",
       "      <td>85</td>\n",
       "      <td>1</td>\n",
       "    </tr>\n",
       "    <tr>\n",
       "      <th>1</th>\n",
       "      <td>1</td>\n",
       "      <td>Guuleyso brother geesi ilahay ha kuu barakeeyo...</td>\n",
       "      <td>367</td>\n",
       "      <td>62</td>\n",
       "      <td>1</td>\n",
       "    </tr>\n",
       "    <tr>\n",
       "      <th>2</th>\n",
       "      <td>1</td>\n",
       "      <td>siyaasad waxba kama taqaanid iska seexo si wal...</td>\n",
       "      <td>333</td>\n",
       "      <td>59</td>\n",
       "      <td>1</td>\n",
       "    </tr>\n",
       "    <tr>\n",
       "      <th>3</th>\n",
       "      <td>1</td>\n",
       "      <td>Waxaan hubaan in Faysal Cali waraabe iyo Kooxd...</td>\n",
       "      <td>431</td>\n",
       "      <td>75</td>\n",
       "      <td>1</td>\n",
       "    </tr>\n",
       "    <tr>\n",
       "      <th>4</th>\n",
       "      <td>1</td>\n",
       "      <td>Dagaalkiina Dani u wareegay maadama aad ka cab...</td>\n",
       "      <td>451</td>\n",
       "      <td>72</td>\n",
       "      <td>1</td>\n",
       "    </tr>\n",
       "    <tr>\n",
       "      <th>5</th>\n",
       "      <td>1</td>\n",
       "      <td>Warkaan kasoo baxay Dowladda Mareykanka ayaa k...</td>\n",
       "      <td>335</td>\n",
       "      <td>48</td>\n",
       "      <td>1</td>\n",
       "    </tr>\n",
       "    <tr>\n",
       "      <th>6</th>\n",
       "      <td>1</td>\n",
       "      <td>Safaaradda Mareykanka ayaa mar kale ugu baaqda...</td>\n",
       "      <td>334</td>\n",
       "      <td>46</td>\n",
       "      <td>1</td>\n",
       "    </tr>\n",
       "    <tr>\n",
       "      <th>7</th>\n",
       "      <td>1</td>\n",
       "      <td>Xildhibaanadan oo kala ah, Nasro Mahdi Caraale...</td>\n",
       "      <td>320</td>\n",
       "      <td>48</td>\n",
       "      <td>1</td>\n",
       "    </tr>\n",
       "    <tr>\n",
       "      <th>8</th>\n",
       "      <td>1</td>\n",
       "      <td>Saaxiibada caalamku waxa ay ka war hayaan in d...</td>\n",
       "      <td>332</td>\n",
       "      <td>48</td>\n",
       "      <td>1</td>\n",
       "    </tr>\n",
       "    <tr>\n",
       "      <th>9</th>\n",
       "      <td>1</td>\n",
       "      <td>Sida lagu qeexay Warmurtiyeedka Golaha Wadatas...</td>\n",
       "      <td>339</td>\n",
       "      <td>53</td>\n",
       "      <td>1</td>\n",
       "    </tr>\n",
       "  </tbody>\n",
       "</table>\n",
       "</div>"
      ],
      "text/plain": [
       "   target                                               text  num_characters  \\\n",
       "0       1  Abaalmarin waxaa u qiimo badan tan alle xagiis...             510   \n",
       "1       1  Guuleyso brother geesi ilahay ha kuu barakeeyo...             367   \n",
       "2       1  siyaasad waxba kama taqaanid iska seexo si wal...             333   \n",
       "3       1  Waxaan hubaan in Faysal Cali waraabe iyo Kooxd...             431   \n",
       "4       1  Dagaalkiina Dani u wareegay maadama aad ka cab...             451   \n",
       "5       1  Warkaan kasoo baxay Dowladda Mareykanka ayaa k...             335   \n",
       "6       1  Safaaradda Mareykanka ayaa mar kale ugu baaqda...             334   \n",
       "7       1  Xildhibaanadan oo kala ah, Nasro Mahdi Caraale...             320   \n",
       "8       1  Saaxiibada caalamku waxa ay ka war hayaan in d...             332   \n",
       "9       1  Sida lagu qeexay Warmurtiyeedka Golaha Wadatas...             339   \n",
       "\n",
       "   num_words  num_sentences  \n",
       "0         85              1  \n",
       "1         62              1  \n",
       "2         59              1  \n",
       "3         75              1  \n",
       "4         72              1  \n",
       "5         48              1  \n",
       "6         46              1  \n",
       "7         48              1  \n",
       "8         48              1  \n",
       "9         53              1  "
      ]
     },
     "execution_count": 70,
     "metadata": {},
     "output_type": "execute_result"
    }
   ],
   "source": [
    "df.head(10)"
   ]
  },
  {
   "cell_type": "markdown",
   "id": "1bda0aac",
   "metadata": {},
   "source": [
    "# summary of EDA"
   ]
  },
  {
   "cell_type": "markdown",
   "id": "a07be18f",
   "metadata": {},
   "source": [
    "In conclusion, the code performs various visualizations and analysis on the DataFrame, giving insights into the relationships between variables, distributions of features, and the class distribution. However, the sentence tokenization part of the code snippet seems to have an issue, as it appends the original tokens instead of tokenized sentences."
   ]
  },
  {
   "cell_type": "markdown",
   "id": "3ab74288",
   "metadata": {},
   "source": [
    "## 3. Data Preprocessing\n",
    "- Lower case\n",
    "- Tokenization\n",
    "- Removing special characters\n",
    "- Removing stop words and punctuation\n",
    "- Stemming"
   ]
  },
  {
   "cell_type": "code",
   "execution_count": 71,
   "id": "b91ca026",
   "metadata": {},
   "outputs": [],
   "source": [
    "def transform_text(text):\n",
    "    # Convert text to lowercase\n",
    "    #text.lower() converts the input text to lowercase to ensure consistency.\n",
    "    text = text.lower()\n",
    "    \n",
    "    # Tokenize the text into words\n",
    "    #nltk.word_tokenize(text) tokenizes the text into individual words using NLTK's word tokenizer.\n",
    "    text = nltk.word_tokenize(text)\n",
    "    \n",
    "    # Remove non-alphanumeric characters\n",
    "    y = []\n",
    "    for i in text:\n",
    "        if i.isalnum():\n",
    "            y.append(i)\n",
    "    text = y[:]\n",
    "    y.clear()\n",
    "    \n",
    "    # Remove stopwords and punctuation\n",
    "    #The condition if i not in stopwords.words('Somali') and i not in string.punctuation checks if the word \n",
    "    #is not a stopword (from the Somali language) and not a punctuation mark\n",
    "    for i in text:\n",
    "        if i not in stopwords.words('Somali') and i not in string.punctuation:\n",
    "            y.append(i)\n",
    "    #text = y[:] copies the filtered list back to the text variable.\n",
    "    text = y[:]\n",
    "    y.clear()\n",
    "    \n",
    "    # Perform stemming using PorterStemmer\n",
    "    #ps.stem(i) performs stemming using the PorterStemmer algorithm to reduce words to their base or root form.\n",
    "    ps = nltk.stem.PorterStemmer()\n",
    "    for i in text:\n",
    "        y.append(ps.stem(i))\n",
    "    \n",
    "    # Join the processed words back into a single string\n",
    "    return \" \".join(y)"
   ]
  },
  {
   "cell_type": "code",
   "execution_count": 72,
   "id": "e2bfd624",
   "metadata": {},
   "outputs": [
    {
     "data": {
      "text/plain": [
       "'qof xun tihid'"
      ]
     },
     "execution_count": 72,
     "metadata": {},
     "output_type": "execute_result"
    }
   ],
   "source": [
    "#test of removing stopwors and others\n",
    "transform_text(\"qof xun ma tihid\")"
   ]
  },
  {
   "cell_type": "code",
   "execution_count": 73,
   "id": "a8e50b45",
   "metadata": {},
   "outputs": [
    {
     "data": {
      "text/plain": [
       "'Saaxiibada caalamku waxay ku celinayaan walaaca ah in qoondada boqolkiiba ka ee matalaadda haweenka ee baarlamaanka aan la gaarsiineyn, waxa ayna ku baaqayaan in tallaabooyin degdeg ah lagu saxo kuraasta harsan , Suxufiyiintu ay awood u yeeshaan inay tebiyaan, bulshada rayidka ahna ay si xor ah u kormeeraan hawlaha doorashada cabsi gelin la’aan'"
      ]
     },
     "execution_count": 73,
     "metadata": {},
     "output_type": "execute_result"
    }
   ],
   "source": [
    "#onother test\n",
    "df['text'][10]"
   ]
  },
  {
   "cell_type": "code",
   "execution_count": 74,
   "id": "467d03cd",
   "metadata": {},
   "outputs": [],
   "source": [
    "#applying datasets without stopword and others adds in all datasets incloude text\n",
    "df['transformed_text'] = df['text'].apply(str).apply(transform_text)"
   ]
  },
  {
   "cell_type": "code",
   "execution_count": 75,
   "id": "c88541f5",
   "metadata": {},
   "outputs": [
    {
     "data": {
      "text/html": [
       "<div>\n",
       "<style scoped>\n",
       "    .dataframe tbody tr th:only-of-type {\n",
       "        vertical-align: middle;\n",
       "    }\n",
       "\n",
       "    .dataframe tbody tr th {\n",
       "        vertical-align: top;\n",
       "    }\n",
       "\n",
       "    .dataframe thead th {\n",
       "        text-align: right;\n",
       "    }\n",
       "</style>\n",
       "<table border=\"1\" class=\"dataframe\">\n",
       "  <thead>\n",
       "    <tr style=\"text-align: right;\">\n",
       "      <th></th>\n",
       "      <th>target</th>\n",
       "      <th>text</th>\n",
       "      <th>num_characters</th>\n",
       "      <th>num_words</th>\n",
       "      <th>num_sentences</th>\n",
       "      <th>transformed_text</th>\n",
       "    </tr>\n",
       "  </thead>\n",
       "  <tbody>\n",
       "    <tr>\n",
       "      <th>0</th>\n",
       "      <td>1</td>\n",
       "      <td>Abaalmarin waxaa u qiimo badan tan alle xagiis...</td>\n",
       "      <td>510</td>\n",
       "      <td>85</td>\n",
       "      <td>1</td>\n",
       "      <td>abaalmarin qiimo all xagiisa kaga timado ajar ...</td>\n",
       "    </tr>\n",
       "    <tr>\n",
       "      <th>1</th>\n",
       "      <td>1</td>\n",
       "      <td>Guuleyso brother geesi ilahay ha kuu barakeeyo...</td>\n",
       "      <td>367</td>\n",
       "      <td>62</td>\n",
       "      <td>1</td>\n",
       "      <td>guuleyso brother geesi ilahay barakeeyo aamin ...</td>\n",
       "    </tr>\n",
       "    <tr>\n",
       "      <th>2</th>\n",
       "      <td>1</td>\n",
       "      <td>siyaasad waxba kama taqaanid iska seexo si wal...</td>\n",
       "      <td>333</td>\n",
       "      <td>59</td>\n",
       "      <td>1</td>\n",
       "      <td>siyaasad waxba taqaanid seexo walbo lagaaga ra...</td>\n",
       "    </tr>\n",
       "    <tr>\n",
       "      <th>3</th>\n",
       "      <td>1</td>\n",
       "      <td>Waxaan hubaan in Faysal Cali waraabe iyo Kooxd...</td>\n",
       "      <td>431</td>\n",
       "      <td>75</td>\n",
       "      <td>1</td>\n",
       "      <td>waxaan hubaan faysal cali waraab kooxdiisii ma...</td>\n",
       "    </tr>\n",
       "    <tr>\n",
       "      <th>4</th>\n",
       "      <td>1</td>\n",
       "      <td>Dagaalkiina Dani u wareegay maadama aad ka cab...</td>\n",
       "      <td>451</td>\n",
       "      <td>72</td>\n",
       "      <td>1</td>\n",
       "      <td>dagaalkiina dani wareegay maadama cabsi qabtaa...</td>\n",
       "    </tr>\n",
       "  </tbody>\n",
       "</table>\n",
       "</div>"
      ],
      "text/plain": [
       "   target                                               text  num_characters  \\\n",
       "0       1  Abaalmarin waxaa u qiimo badan tan alle xagiis...             510   \n",
       "1       1  Guuleyso brother geesi ilahay ha kuu barakeeyo...             367   \n",
       "2       1  siyaasad waxba kama taqaanid iska seexo si wal...             333   \n",
       "3       1  Waxaan hubaan in Faysal Cali waraabe iyo Kooxd...             431   \n",
       "4       1  Dagaalkiina Dani u wareegay maadama aad ka cab...             451   \n",
       "\n",
       "   num_words  num_sentences                                   transformed_text  \n",
       "0         85              1  abaalmarin qiimo all xagiisa kaga timado ajar ...  \n",
       "1         62              1  guuleyso brother geesi ilahay barakeeyo aamin ...  \n",
       "2         59              1  siyaasad waxba taqaanid seexo walbo lagaaga ra...  \n",
       "3         75              1  waxaan hubaan faysal cali waraab kooxdiisii ma...  \n",
       "4         72              1  dagaalkiina dani wareegay maadama cabsi qabtaa...  "
      ]
     },
     "execution_count": 75,
     "metadata": {},
     "output_type": "execute_result"
    }
   ],
   "source": [
    "df.head()"
   ]
  },
  {
   "cell_type": "code",
   "execution_count": 76,
   "id": "0a470afc",
   "metadata": {},
   "outputs": [],
   "source": [
    "\n",
    "#wc varaible assign to show worldcloud\n",
    "#wc = WordCloud(width=500,height=500,min_font_size=10,background_color='white')"
   ]
  },
  {
   "cell_type": "code",
   "execution_count": 77,
   "id": "e53afa54",
   "metadata": {},
   "outputs": [],
   "source": [
    "#shows as worldcloud in Hate\n",
    "#hate_wc = wc.generate(df[df['target'] == 0]['transformed_text'].str.cat(sep=\" \"))"
   ]
  },
  {
   "cell_type": "code",
   "execution_count": null,
   "id": "f6d31b53",
   "metadata": {},
   "outputs": [],
   "source": []
  },
  {
   "cell_type": "code",
   "execution_count": 78,
   "id": "23aa35d6",
   "metadata": {},
   "outputs": [],
   "source": [
    "#shows as worldcloud in non-hate\n",
    "#non_hate_wc = wc.generate(df[df['target'] == 1]['transformed_text'].str.cat(sep=\" \"))"
   ]
  },
  {
   "cell_type": "code",
   "execution_count": null,
   "id": "de135c88",
   "metadata": {},
   "outputs": [],
   "source": []
  },
  {
   "cell_type": "code",
   "execution_count": 79,
   "id": "097c12f8",
   "metadata": {},
   "outputs": [
    {
     "data": {
      "text/html": [
       "<div>\n",
       "<style scoped>\n",
       "    .dataframe tbody tr th:only-of-type {\n",
       "        vertical-align: middle;\n",
       "    }\n",
       "\n",
       "    .dataframe tbody tr th {\n",
       "        vertical-align: top;\n",
       "    }\n",
       "\n",
       "    .dataframe thead th {\n",
       "        text-align: right;\n",
       "    }\n",
       "</style>\n",
       "<table border=\"1\" class=\"dataframe\">\n",
       "  <thead>\n",
       "    <tr style=\"text-align: right;\">\n",
       "      <th></th>\n",
       "      <th>target</th>\n",
       "      <th>text</th>\n",
       "      <th>num_characters</th>\n",
       "      <th>num_words</th>\n",
       "      <th>num_sentences</th>\n",
       "      <th>transformed_text</th>\n",
       "    </tr>\n",
       "  </thead>\n",
       "  <tbody>\n",
       "    <tr>\n",
       "      <th>0</th>\n",
       "      <td>1</td>\n",
       "      <td>Abaalmarin waxaa u qiimo badan tan alle xagiis...</td>\n",
       "      <td>510</td>\n",
       "      <td>85</td>\n",
       "      <td>1</td>\n",
       "      <td>abaalmarin qiimo all xagiisa kaga timado ajar ...</td>\n",
       "    </tr>\n",
       "    <tr>\n",
       "      <th>1</th>\n",
       "      <td>1</td>\n",
       "      <td>Guuleyso brother geesi ilahay ha kuu barakeeyo...</td>\n",
       "      <td>367</td>\n",
       "      <td>62</td>\n",
       "      <td>1</td>\n",
       "      <td>guuleyso brother geesi ilahay barakeeyo aamin ...</td>\n",
       "    </tr>\n",
       "    <tr>\n",
       "      <th>2</th>\n",
       "      <td>1</td>\n",
       "      <td>siyaasad waxba kama taqaanid iska seexo si wal...</td>\n",
       "      <td>333</td>\n",
       "      <td>59</td>\n",
       "      <td>1</td>\n",
       "      <td>siyaasad waxba taqaanid seexo walbo lagaaga ra...</td>\n",
       "    </tr>\n",
       "    <tr>\n",
       "      <th>3</th>\n",
       "      <td>1</td>\n",
       "      <td>Waxaan hubaan in Faysal Cali waraabe iyo Kooxd...</td>\n",
       "      <td>431</td>\n",
       "      <td>75</td>\n",
       "      <td>1</td>\n",
       "      <td>waxaan hubaan faysal cali waraab kooxdiisii ma...</td>\n",
       "    </tr>\n",
       "    <tr>\n",
       "      <th>4</th>\n",
       "      <td>1</td>\n",
       "      <td>Dagaalkiina Dani u wareegay maadama aad ka cab...</td>\n",
       "      <td>451</td>\n",
       "      <td>72</td>\n",
       "      <td>1</td>\n",
       "      <td>dagaalkiina dani wareegay maadama cabsi qabtaa...</td>\n",
       "    </tr>\n",
       "  </tbody>\n",
       "</table>\n",
       "</div>"
      ],
      "text/plain": [
       "   target                                               text  num_characters  \\\n",
       "0       1  Abaalmarin waxaa u qiimo badan tan alle xagiis...             510   \n",
       "1       1  Guuleyso brother geesi ilahay ha kuu barakeeyo...             367   \n",
       "2       1  siyaasad waxba kama taqaanid iska seexo si wal...             333   \n",
       "3       1  Waxaan hubaan in Faysal Cali waraabe iyo Kooxd...             431   \n",
       "4       1  Dagaalkiina Dani u wareegay maadama aad ka cab...             451   \n",
       "\n",
       "   num_words  num_sentences                                   transformed_text  \n",
       "0         85              1  abaalmarin qiimo all xagiisa kaga timado ajar ...  \n",
       "1         62              1  guuleyso brother geesi ilahay barakeeyo aamin ...  \n",
       "2         59              1  siyaasad waxba taqaanid seexo walbo lagaaga ra...  \n",
       "3         75              1  waxaan hubaan faysal cali waraab kooxdiisii ma...  \n",
       "4         72              1  dagaalkiina dani wareegay maadama cabsi qabtaa...  "
      ]
     },
     "execution_count": 79,
     "metadata": {},
     "output_type": "execute_result"
    }
   ],
   "source": [
    "df.head()"
   ]
  },
  {
   "cell_type": "code",
   "execution_count": 80,
   "id": "e7b704c1",
   "metadata": {},
   "outputs": [],
   "source": [
    "#assign a varibale in hate wors to search most coomom words\n",
    "none_hate_corpus = []\n",
    "for msg in df[df['target'] == 1]['transformed_text'].tolist():\n",
    "    for word in msg.split():\n",
    "        none_hate_corpus.append(word)\n",
    "        "
   ]
  },
  {
   "cell_type": "code",
   "execution_count": 81,
   "id": "012f6b89",
   "metadata": {},
   "outputs": [
    {
     "data": {
      "text/plain": [
       "110943"
      ]
     },
     "execution_count": 81,
     "metadata": {},
     "output_type": "execute_result"
    }
   ],
   "source": [
    "len(none_hate_corpus)"
   ]
  },
  {
   "cell_type": "code",
   "execution_count": 82,
   "id": "67a8d65d",
   "metadata": {},
   "outputs": [],
   "source": [
    "#shows a most common words in non-hate\n",
    "#sns.barplot(pd.DataFrame(Counter(none_hate_corpus).most_common(30))[0],pd.DataFrame(Counter(none_hate_corpus).most_common(30))[1])\n",
    "#plt.xticks(rotation='vertical')\n",
    "#plt.show()"
   ]
  },
  {
   "cell_type": "code",
   "execution_count": 83,
   "id": "5aa7ab51",
   "metadata": {},
   "outputs": [],
   "source": [
    "#assign a varibale in hate wors to search most coomom words\n",
    "hate_corpus = []\n",
    "for msg in df[df['target'] == 0]['transformed_text'].tolist():\n",
    "    for word in msg.split():\n",
    "        hate_corpus.append(word)"
   ]
  },
  {
   "cell_type": "code",
   "execution_count": 84,
   "id": "bb3a8c3e",
   "metadata": {},
   "outputs": [
    {
     "data": {
      "text/plain": [
       "61090"
      ]
     },
     "execution_count": 84,
     "metadata": {},
     "output_type": "execute_result"
    }
   ],
   "source": [
    "len(hate_corpus)"
   ]
  },
  {
   "cell_type": "code",
   "execution_count": 85,
   "id": "e4c0824a",
   "metadata": {},
   "outputs": [],
   "source": [
    "#show most coomon wors in hate\n",
    "\n",
    "#sns.barplot(pd.DataFrame(Counter(hate_corpus).most_common(30))[0],pd.DataFrame(Counter(hate_corpus).most_common(30))[1])\n",
    "#plt.xticks(rotation='vertical')\n",
    "#plt.show()"
   ]
  },
  {
   "cell_type": "code",
   "execution_count": 86,
   "id": "a27316ab",
   "metadata": {},
   "outputs": [
    {
     "data": {
      "text/html": [
       "<div>\n",
       "<style scoped>\n",
       "    .dataframe tbody tr th:only-of-type {\n",
       "        vertical-align: middle;\n",
       "    }\n",
       "\n",
       "    .dataframe tbody tr th {\n",
       "        vertical-align: top;\n",
       "    }\n",
       "\n",
       "    .dataframe thead th {\n",
       "        text-align: right;\n",
       "    }\n",
       "</style>\n",
       "<table border=\"1\" class=\"dataframe\">\n",
       "  <thead>\n",
       "    <tr style=\"text-align: right;\">\n",
       "      <th></th>\n",
       "      <th>target</th>\n",
       "      <th>text</th>\n",
       "      <th>num_characters</th>\n",
       "      <th>num_words</th>\n",
       "      <th>num_sentences</th>\n",
       "      <th>transformed_text</th>\n",
       "    </tr>\n",
       "  </thead>\n",
       "  <tbody>\n",
       "    <tr>\n",
       "      <th>0</th>\n",
       "      <td>1</td>\n",
       "      <td>Abaalmarin waxaa u qiimo badan tan alle xagiis...</td>\n",
       "      <td>510</td>\n",
       "      <td>85</td>\n",
       "      <td>1</td>\n",
       "      <td>abaalmarin qiimo all xagiisa kaga timado ajar ...</td>\n",
       "    </tr>\n",
       "    <tr>\n",
       "      <th>1</th>\n",
       "      <td>1</td>\n",
       "      <td>Guuleyso brother geesi ilahay ha kuu barakeeyo...</td>\n",
       "      <td>367</td>\n",
       "      <td>62</td>\n",
       "      <td>1</td>\n",
       "      <td>guuleyso brother geesi ilahay barakeeyo aamin ...</td>\n",
       "    </tr>\n",
       "    <tr>\n",
       "      <th>2</th>\n",
       "      <td>1</td>\n",
       "      <td>siyaasad waxba kama taqaanid iska seexo si wal...</td>\n",
       "      <td>333</td>\n",
       "      <td>59</td>\n",
       "      <td>1</td>\n",
       "      <td>siyaasad waxba taqaanid seexo walbo lagaaga ra...</td>\n",
       "    </tr>\n",
       "    <tr>\n",
       "      <th>3</th>\n",
       "      <td>1</td>\n",
       "      <td>Waxaan hubaan in Faysal Cali waraabe iyo Kooxd...</td>\n",
       "      <td>431</td>\n",
       "      <td>75</td>\n",
       "      <td>1</td>\n",
       "      <td>waxaan hubaan faysal cali waraab kooxdiisii ma...</td>\n",
       "    </tr>\n",
       "    <tr>\n",
       "      <th>4</th>\n",
       "      <td>1</td>\n",
       "      <td>Dagaalkiina Dani u wareegay maadama aad ka cab...</td>\n",
       "      <td>451</td>\n",
       "      <td>72</td>\n",
       "      <td>1</td>\n",
       "      <td>dagaalkiina dani wareegay maadama cabsi qabtaa...</td>\n",
       "    </tr>\n",
       "  </tbody>\n",
       "</table>\n",
       "</div>"
      ],
      "text/plain": [
       "   target                                               text  num_characters  \\\n",
       "0       1  Abaalmarin waxaa u qiimo badan tan alle xagiis...             510   \n",
       "1       1  Guuleyso brother geesi ilahay ha kuu barakeeyo...             367   \n",
       "2       1  siyaasad waxba kama taqaanid iska seexo si wal...             333   \n",
       "3       1  Waxaan hubaan in Faysal Cali waraabe iyo Kooxd...             431   \n",
       "4       1  Dagaalkiina Dani u wareegay maadama aad ka cab...             451   \n",
       "\n",
       "   num_words  num_sentences                                   transformed_text  \n",
       "0         85              1  abaalmarin qiimo all xagiisa kaga timado ajar ...  \n",
       "1         62              1  guuleyso brother geesi ilahay barakeeyo aamin ...  \n",
       "2         59              1  siyaasad waxba taqaanid seexo walbo lagaaga ra...  \n",
       "3         75              1  waxaan hubaan faysal cali waraab kooxdiisii ma...  \n",
       "4         72              1  dagaalkiina dani wareegay maadama cabsi qabtaa...  "
      ]
     },
     "execution_count": 86,
     "metadata": {},
     "output_type": "execute_result"
    }
   ],
   "source": [
    "# Text Vectorization\n",
    "# using Bag of Words\n",
    "df.head()"
   ]
  },
  {
   "cell_type": "markdown",
   "id": "5e446766",
   "metadata": {},
   "source": [
    "# summary of data processing"
   ]
  },
  {
   "cell_type": "markdown",
   "id": "d3e7d881",
   "metadata": {},
   "source": [
    "The code snippet performs text transformation and analysis on a DataFrame called 'df' containing a 'text' column. The 'transform_text' function converts the text to lowercase, tokenizes it into words, removes non-alphanumeric characters, filters out stopwords and punctuation, and performs stemming using the PorterStemmer algorithm.\n",
    "\n",
    "After transforming the text, a word cloud visualization is generated for both hate and non-hate instances. The word clouds represent the most common words in the transformed text for each class. The 'WordCloud' class from the 'wordcloud' library is used to create the visualizations.\n",
    "\n",
    "Additionally, two lists ('hate_corpus' and 'non_hate_corpus') are created to store all the transformed words from hate and non-hate instances, respectively. These lists can be used for further analysis or processing.\n",
    "\n",
    "In conclusion, the provided code snippet applies text transformation techniques, generates word cloud visualizations to highlight common words in hate and non-hate instances, and creates lists to store the transformed words. These steps help gain insights into the textual data and can be useful for tasks like sentiment analysis or topic identification."
   ]
  },
  {
   "cell_type": "markdown",
   "id": "ae98f26d",
   "metadata": {},
   "source": [
    "# 4. Model Building"
   ]
  },
  {
   "cell_type": "code",
   "execution_count": 87,
   "id": "2d88a48d",
   "metadata": {},
   "outputs": [],
   "source": [
    "# CountVectorizer and TfidfVectorizer are initialized\n",
    "# CountVectorizer is used for creating a matrix of token counts\n",
    "# TfidfVectorizer is used for creating a matrix of TF-IDF features\n",
    "cv = CountVectorizer()\n",
    "tfidf = TfidfVectorizer(max_features=3000)\n",
    "\n"
   ]
  },
  {
   "cell_type": "code",
   "execution_count": 88,
   "id": "1654a9f7",
   "metadata": {},
   "outputs": [],
   "source": [
    "# x variable assigns a tfidf to fit adatasets without stopwords and puncution\n",
    "# The 'transformed_text' column of the DataFrame is passed to the TfidfVectorizer's fit_transform() method\n",
    "# The text is transformed into a matrix of TF-IDF features\n",
    "# toarray() converts the sparse matrix representation to a dense matrix\n",
    "X = tfidf.fit_transform(df['transformed_text']).toarray()"
   ]
  },
  {
   "cell_type": "code",
   "execution_count": 89,
   "id": "d19d30fd",
   "metadata": {},
   "outputs": [],
   "source": [
    "# X.shape returns the shape of the matrix X, indicating the number of instances and features\n",
    "X.shape\n",
    "y = df['target'].values"
   ]
  },
  {
   "cell_type": "code",
   "execution_count": 90,
   "id": "d2b2861d",
   "metadata": {},
   "outputs": [],
   "source": [
    "# data trains 20% training or 0.2 a training and other 80% or 0.8 are test\n",
    "# The data is split into training and testing sets\n",
    "# X and y are split into X_train, X_test, y_train, y_test respectively\n",
    "# test_size=0.2 specifies that 20% of the data will be used for testing\n",
    "# random_state=2 sets a specific random state to ensure reproducibility\n",
    "X_train,X_test,y_train,y_test = train_test_split(X,y,test_size=0.2,random_state=2)"
   ]
  },
  {
   "cell_type": "markdown",
   "id": "771a3628",
   "metadata": {},
   "source": [
    "# summary of model building"
   ]
  },
  {
   "cell_type": "markdown",
   "id": "74a92df1",
   "metadata": {},
   "source": [
    "In conclusion, the code snippet applies CountVectorizer and TfidfVectorizer to the transformed text, creates a matrix of TF-IDF features, splits the data into training and testing sets, and assigns the target variable to y. These steps are essential for preparing the data for a machine learning model, where X_train, X_test, y_train, and y_test can be used for model training and evaluation."
   ]
  },
  {
   "cell_type": "markdown",
   "id": "ca340a72",
   "metadata": {},
   "source": [
    "# 5. Evaluation"
   ]
  },
  {
   "cell_type": "code",
   "execution_count": 91,
   "id": "c9920d0e",
   "metadata": {},
   "outputs": [],
   "source": [
    "# Gaussian Naive Bayes classifier\n",
    "gnb = GaussianNB()\n",
    "\n",
    "# Multinomial Naive Bayes classifier\n",
    "mnb = MultinomialNB()\n",
    "\n",
    "# Bernoulli Naive Bayes classifier\n",
    "bnb = BernoulliNB()\n",
    "\n",
    "# Random Forest classifier with 600 estimators\n",
    "RF = RandomForestClassifier(n_estimators=600)\n",
    "\n",
    "# Decision Tree classifier with entropy as the criterion and random state set to 42\n",
    "dt = DecisionTreeClassifier(criterion='entropy', random_state=42)\n",
    "\n",
    "# AdaBoost classifier\n",
    "Ads = AdaBoostClassifier()\n",
    "\n",
    "# Extra Trees classifier\n",
    "extra = ExtraTreesClassifier()\n",
    "\n",
    "# Logistic Regression classifier\n",
    "logis = LogisticRegression()\n",
    "\n",
    "# K-Nearest Neighbors classifier\n",
    "knc = KNeighborsClassifier()\n",
    "\n",
    "# Support Vector Classifier with sigmoid kernel and gamma set to 1.0\n",
    "svc = SVC(kernel='sigmoid', gamma=1.0)"
   ]
  },
  {
   "cell_type": "code",
   "execution_count": 92,
   "id": "3ca60ba9",
   "metadata": {},
   "outputs": [
    {
     "name": "stdout",
     "output_type": "stream",
     "text": [
      "0.92\n",
      "[[604  30]\n",
      " [100 891]]\n",
      "0.9674267100977199\n"
     ]
    }
   ],
   "source": [
    "#explain accurance , confusuion matrix,precision of each models\n",
    "gnb.fit(X_train,y_train)\n",
    "y_pred1 = gnb.predict(X_test)\n",
    "print(accuracy_score(y_test,y_pred1))\n",
    "print(confusion_matrix(y_test,y_pred1))\n",
    "print(precision_score(y_test,y_pred1))\n"
   ]
  },
  {
   "cell_type": "code",
   "execution_count": 93,
   "id": "d4652432",
   "metadata": {},
   "outputs": [
    {
     "name": "stdout",
     "output_type": "stream",
     "text": [
      "0.9612307692307692\n",
      "[[612  22]\n",
      " [ 41 950]]\n",
      "0.977366255144033\n"
     ]
    }
   ],
   "source": [
    "#explain accurance , confusuion matrix,precision of each models\n",
    "mnb.fit(X_train,y_train)\n",
    "y_pred2 = mnb.predict(X_test)\n",
    "print(accuracy_score(y_test,y_pred2))\n",
    "print(confusion_matrix(y_test,y_pred2))\n",
    "print(precision_score(y_test,y_pred2))"
   ]
  },
  {
   "cell_type": "code",
   "execution_count": 94,
   "id": "d776bff4",
   "metadata": {},
   "outputs": [
    {
     "name": "stdout",
     "output_type": "stream",
     "text": [
      "0.9415384615384615\n",
      "[[621  13]\n",
      " [ 82 909]]\n",
      "0.9859002169197397\n"
     ]
    }
   ],
   "source": [
    "#explain accurance , confusuion matrix,precision of each models\n",
    "bnb.fit(X_train,y_train)\n",
    "y_pred3 = bnb.predict(X_test)\n",
    "print(accuracy_score(y_test,y_pred3))\n",
    "print(confusion_matrix(y_test,y_pred3))\n",
    "print(precision_score(y_test,y_pred3))"
   ]
  },
  {
   "cell_type": "code",
   "execution_count": 95,
   "id": "9512f9d2",
   "metadata": {},
   "outputs": [
    {
     "name": "stdout",
     "output_type": "stream",
     "text": [
      "0.9446153846153846\n",
      "[[575  59]\n",
      " [ 31 960]]\n",
      "0.9421000981354269\n"
     ]
    }
   ],
   "source": [
    "#explain accurance , confusuion matrix,precision of each models\n",
    "RF.fit(X_train,y_train)\n",
    "y_pred4 = RF.predict(X_test)\n",
    "print(accuracy_score(y_test,y_pred4))\n",
    "print(confusion_matrix(y_test,y_pred4))\n",
    "print(precision_score(y_test,y_pred4))"
   ]
  },
  {
   "cell_type": "code",
   "execution_count": 96,
   "id": "729c71f6",
   "metadata": {},
   "outputs": [
    {
     "name": "stdout",
     "output_type": "stream",
     "text": [
      "0.9083076923076923\n",
      "[[554  80]\n",
      " [ 69 922]]\n",
      "0.9201596806387226\n"
     ]
    }
   ],
   "source": [
    "#explain accurance , confusuion matrix,precision of each models\n",
    "dt.fit(X_train,y_train)\n",
    "y_pred5 = dt.predict(X_test)\n",
    "print(accuracy_score(y_test,y_pred5))\n",
    "print(confusion_matrix(y_test,y_pred5))\n",
    "print(precision_score(y_test,y_pred5))"
   ]
  },
  {
   "cell_type": "code",
   "execution_count": 97,
   "id": "e9fa80ab",
   "metadata": {},
   "outputs": [
    {
     "name": "stdout",
     "output_type": "stream",
     "text": [
      "0.904\n",
      "[[507 127]\n",
      " [ 29 962]]\n",
      "0.8833792470156107\n"
     ]
    }
   ],
   "source": [
    "#explain accurance , confusuion matrix,precision of each models\n",
    "Ads.fit(X_train,y_train)\n",
    "y_pred6 = Ads.predict(X_test)\n",
    "print(accuracy_score(y_test,y_pred6))\n",
    "print(confusion_matrix(y_test,y_pred6))\n",
    "print(precision_score(y_test,y_pred6))"
   ]
  },
  {
   "cell_type": "code",
   "execution_count": 98,
   "id": "a370619f",
   "metadata": {},
   "outputs": [
    {
     "name": "stdout",
     "output_type": "stream",
     "text": [
      "0.9538461538461539\n",
      "[[595  39]\n",
      " [ 36 955]]\n",
      "0.9607645875251509\n"
     ]
    }
   ],
   "source": [
    "#explain accurance , confusuion matrix,precision of each models\n",
    "extra.fit(X_train,y_train)\n",
    "y_pred7 = extra.predict(X_test)\n",
    "print(accuracy_score(y_test,y_pred7))\n",
    "print(confusion_matrix(y_test,y_pred7))\n",
    "print(precision_score(y_test,y_pred7))"
   ]
  },
  {
   "cell_type": "code",
   "execution_count": 99,
   "id": "d3bbdcec",
   "metadata": {},
   "outputs": [
    {
     "name": "stdout",
     "output_type": "stream",
     "text": [
      "0.9569230769230769\n",
      "[[578  56]\n",
      " [ 14 977]]\n",
      "0.9457889641819942\n"
     ]
    }
   ],
   "source": [
    "#explain accurance , confusuion matrix,precision of each models\n",
    "logis.fit(X_train,y_train)\n",
    "y_pred8 = logis.predict(X_test)\n",
    "print(accuracy_score(y_test,y_pred8))\n",
    "print(confusion_matrix(y_test,y_pred8))\n",
    "print(precision_score(y_test,y_pred8))"
   ]
  },
  {
   "cell_type": "code",
   "execution_count": 100,
   "id": "0f39d9e9",
   "metadata": {},
   "outputs": [
    {
     "name": "stdout",
     "output_type": "stream",
     "text": [
      "0.6326153846153846\n",
      "[[ 37 597]\n",
      " [  0 991]]\n",
      "0.6240554156171285\n"
     ]
    }
   ],
   "source": [
    "#explain accurance , confusuion matrix,precision of each models\n",
    "knc.fit(X_train,y_train)\n",
    "y_pred9 = knc.predict(X_test)\n",
    "print(accuracy_score(y_test,y_pred9))\n",
    "print(confusion_matrix(y_test,y_pred9))\n",
    "print(precision_score(y_test,y_pred9))"
   ]
  },
  {
   "cell_type": "code",
   "execution_count": 101,
   "id": "0db64df5",
   "metadata": {},
   "outputs": [
    {
     "name": "stdout",
     "output_type": "stream",
     "text": [
      "0.9661538461538461\n",
      "[[597  37]\n",
      " [ 18 973]]\n",
      "0.9633663366336633\n"
     ]
    }
   ],
   "source": [
    "#explain accurance , confusuion matrix,precision of each models\n",
    "svc.fit(X_train,y_train)\n",
    "y_pred10= svc.predict(X_test)\n",
    "print(accuracy_score(y_test,y_pred10))\n",
    "print(confusion_matrix(y_test,y_pred10))\n",
    "print(precision_score(y_test,y_pred10))"
   ]
  },
  {
   "cell_type": "markdown",
   "id": "776a25ac",
   "metadata": {},
   "source": [
    "# summary of model evalution "
   ]
  },
  {
   "cell_type": "markdown",
   "id": "35338399",
   "metadata": {},
   "source": [
    "evaluate their performance on the test data. The accuracy score provides an overall measure of how well the classifier predicts the labels. The confusion matrix gives insights into the types of errors made by the classifier. Precision indicates the ability of the classifier to correctly classify positive instances.\n",
    "\n",
    "In conclusion, the code snippet trains multiple classifiers, makes predictions on the test data, and calculates accuracy, confusion matrix, and precision for each model. These metrics help evaluate the performance of each classifier and provide insights into their effectiveness in predicting the target variable."
   ]
  },
  {
   "cell_type": "markdown",
   "id": "73125162",
   "metadata": {},
   "source": [
    "# 6. Improvement"
   ]
  },
  {
   "cell_type": "code",
   "execution_count": 102,
   "id": "69aecbbb",
   "metadata": {},
   "outputs": [],
   "source": [
    "# Support Vector Classifier with sigmoid kernel and gamma set to 1.0\n",
    "svc = SVC(kernel='sigmoid', gamma=1.0)\n",
    "\n",
    "# K-Nearest Neighbors classifier\n",
    "knc = KNeighborsClassifier()\n",
    "\n",
    "# Multinomial Naive Bayes classifier\n",
    "mnb = MultinomialNB()\n",
    "\n",
    "# Decision Tree classifier with maximum depth set to 5\n",
    "dtc = DecisionTreeClassifier(max_depth=5)\n",
    "\n",
    "# Logistic Regression classifier with solver set to 'liblinear' and penalty set to 'l1'\n",
    "lrc = LogisticRegression(solver='liblinear', penalty='l1')\n",
    "\n",
    "# Random Forest classifier with 50 estimators and random state set to 2\n",
    "rfc = RandomForestClassifier(n_estimators=50, random_state=2)\n",
    "\n",
    "# AdaBoost classifier with 50 estimators and random state set to 2\n",
    "abc = AdaBoostClassifier(n_estimators=50, random_state=2)\n",
    "\n",
    "# Extra Trees classifier with 50 estimators and random state set to 2\n",
    "etc = ExtraTreesClassifier(n_estimators=50, random_state=2)\n"
   ]
  },
  {
   "cell_type": "code",
   "execution_count": 103,
   "id": "e5b3a99f",
   "metadata": {},
   "outputs": [],
   "source": [
    "#clf to store trained model values\n",
    "# The 'clfs' dictionary stores the trained model instances for different classifiers.\n",
    "# Each key-value pair in the dictionary represents a classifier name and its corresponding trained model instance.\n",
    "# These models can be accessed and used later for prediction or other purposes.\n",
    "clfs = {\n",
    "    'SVC' : svc,\n",
    "    'KN' : knc, \n",
    "    'NB': mnb, \n",
    "    'DT': dtc, \n",
    "    'LR': lrc, \n",
    "    'RF': rfc, \n",
    "    'AdaBoost': abc, \n",
    "    'ETC': etc,\n",
    "}"
   ]
  },
  {
   "cell_type": "code",
   "execution_count": 104,
   "id": "f6e6bb0d",
   "metadata": {},
   "outputs": [],
   "source": [
    "#The function `train_classifier` is a useful tool for evaluating the performance of a classifier\n",
    "#The function returns the accuracy and precision scores.\n",
    "#The first line of the function classifier learns the relationship between the features in the training data and the labels\n",
    "#The second line, `y_pred = clf.predict(X_test)`, makes predictions on the testing data. \n",
    "def train_classifier(clf,X_train,y_train,X_test,y_test):\n",
    "    clf.fit(X_train,y_train)\n",
    "    y_pred = clf.predict(X_test)\n",
    "    accuracy = accuracy_score(y_test,y_pred)\n",
    "    precision = precision_score(y_test,y_pred)\n",
    "    \n",
    "    \n",
    "    return accuracy,precision"
   ]
  },
  {
   "cell_type": "code",
   "execution_count": 105,
   "id": "f294fb4b",
   "metadata": {},
   "outputs": [
    {
     "data": {
      "text/plain": [
       "(0.9661538461538461, 0.9633663366336633)"
      ]
     },
     "execution_count": 105,
     "metadata": {},
     "output_type": "execute_result"
    }
   ],
   "source": [
    "#`train_classifier` is a useful tool for evaluating the performance of a classifier\n",
    "train_classifier(svc,X_train,y_train,X_test,y_test)"
   ]
  },
  {
   "cell_type": "code",
   "execution_count": 106,
   "id": "01a350d2",
   "metadata": {},
   "outputs": [
    {
     "name": "stdout",
     "output_type": "stream",
     "text": [
      "For  SVC\n",
      "Accuracy -  0.9661538461538461\n",
      "Precision -  0.9633663366336633\n",
      "For  KN\n",
      "Accuracy -  0.6326153846153846\n",
      "Precision -  0.6240554156171285\n",
      "For  NB\n",
      "Accuracy -  0.9612307692307692\n",
      "Precision -  0.977366255144033\n",
      "For  DT\n",
      "Accuracy -  0.7532307692307693\n",
      "Precision -  0.7153284671532847\n",
      "For  LR\n",
      "Accuracy -  0.9378461538461539\n",
      "Precision -  0.9222011385199241\n",
      "For  RF\n",
      "Accuracy -  0.9427692307692308\n",
      "Precision -  0.9428007889546351\n",
      "For  AdaBoost\n",
      "Accuracy -  0.904\n",
      "Precision -  0.8833792470156107\n",
      "For  ETC\n",
      "Accuracy -  0.9556923076923077\n",
      "Precision -  0.9590409590409591\n"
     ]
    }
   ],
   "source": [
    "#The function returns the accuracy and precision scores for each classifier.\n",
    "#The overall accuracy and precision scores are then printed.\n",
    "accuracy_scores = []\n",
    "precision_scores = []\n",
    "\n",
    "for name,clf in clfs.items():\n",
    "    \n",
    "    current_accuracy,current_precision = train_classifier(clf, X_train,y_train,X_test,y_test)\n",
    "    \n",
    "    print(\"For \",name)\n",
    "    print(\"Accuracy - \",current_accuracy)\n",
    "    print(\"Precision - \",current_precision)\n",
    "    \n",
    "    accuracy_scores.append(current_accuracy)\n",
    "    precision_scores.append(current_precision)"
   ]
  },
  {
   "cell_type": "code",
   "execution_count": 107,
   "id": "ffcb9b12",
   "metadata": {},
   "outputs": [],
   "source": [
    "#The DataFrame is sorted by the precision scores, in descending order.\n",
    "#This means that the classifiers with the highest precision scores are listed first.\n",
    "performance_df = pd.DataFrame({'Algorithm':clfs.keys(),'Accuracy':accuracy_scores,'Precision':precision_scores}).sort_values('Precision',ascending=False)"
   ]
  },
  {
   "cell_type": "code",
   "execution_count": 108,
   "id": "7c614d5d",
   "metadata": {},
   "outputs": [
    {
     "data": {
      "text/html": [
       "<div>\n",
       "<style scoped>\n",
       "    .dataframe tbody tr th:only-of-type {\n",
       "        vertical-align: middle;\n",
       "    }\n",
       "\n",
       "    .dataframe tbody tr th {\n",
       "        vertical-align: top;\n",
       "    }\n",
       "\n",
       "    .dataframe thead th {\n",
       "        text-align: right;\n",
       "    }\n",
       "</style>\n",
       "<table border=\"1\" class=\"dataframe\">\n",
       "  <thead>\n",
       "    <tr style=\"text-align: right;\">\n",
       "      <th></th>\n",
       "      <th>Algorithm</th>\n",
       "      <th>Accuracy</th>\n",
       "      <th>Precision</th>\n",
       "    </tr>\n",
       "  </thead>\n",
       "  <tbody>\n",
       "    <tr>\n",
       "      <th>2</th>\n",
       "      <td>NB</td>\n",
       "      <td>0.961231</td>\n",
       "      <td>0.977366</td>\n",
       "    </tr>\n",
       "    <tr>\n",
       "      <th>0</th>\n",
       "      <td>SVC</td>\n",
       "      <td>0.966154</td>\n",
       "      <td>0.963366</td>\n",
       "    </tr>\n",
       "    <tr>\n",
       "      <th>7</th>\n",
       "      <td>ETC</td>\n",
       "      <td>0.955692</td>\n",
       "      <td>0.959041</td>\n",
       "    </tr>\n",
       "    <tr>\n",
       "      <th>5</th>\n",
       "      <td>RF</td>\n",
       "      <td>0.942769</td>\n",
       "      <td>0.942801</td>\n",
       "    </tr>\n",
       "    <tr>\n",
       "      <th>4</th>\n",
       "      <td>LR</td>\n",
       "      <td>0.937846</td>\n",
       "      <td>0.922201</td>\n",
       "    </tr>\n",
       "    <tr>\n",
       "      <th>6</th>\n",
       "      <td>AdaBoost</td>\n",
       "      <td>0.904000</td>\n",
       "      <td>0.883379</td>\n",
       "    </tr>\n",
       "    <tr>\n",
       "      <th>3</th>\n",
       "      <td>DT</td>\n",
       "      <td>0.753231</td>\n",
       "      <td>0.715328</td>\n",
       "    </tr>\n",
       "    <tr>\n",
       "      <th>1</th>\n",
       "      <td>KN</td>\n",
       "      <td>0.632615</td>\n",
       "      <td>0.624055</td>\n",
       "    </tr>\n",
       "  </tbody>\n",
       "</table>\n",
       "</div>"
      ],
      "text/plain": [
       "  Algorithm  Accuracy  Precision\n",
       "2        NB  0.961231   0.977366\n",
       "0       SVC  0.966154   0.963366\n",
       "7       ETC  0.955692   0.959041\n",
       "5        RF  0.942769   0.942801\n",
       "4        LR  0.937846   0.922201\n",
       "6  AdaBoost  0.904000   0.883379\n",
       "3        DT  0.753231   0.715328\n",
       "1        KN  0.632615   0.624055"
      ]
     },
     "execution_count": 108,
     "metadata": {},
     "output_type": "execute_result"
    }
   ],
   "source": [
    "performance_df"
   ]
  },
  {
   "cell_type": "code",
   "execution_count": 109,
   "id": "6515228a",
   "metadata": {},
   "outputs": [],
   "source": [
    "#pd.melt` function to reshape the `performance_df` DataFrame.\n",
    "#`id_vars` parameter specifies the column that should be used as the index\n",
    "performance_df1 = pd.melt(performance_df, id_vars = \"Algorithm\")"
   ]
  },
  {
   "cell_type": "code",
   "execution_count": 110,
   "id": "a6c626fb",
   "metadata": {},
   "outputs": [
    {
     "data": {
      "image/png": "[encoded data removed]",
      "text/plain": [
       "<Figure size 613.5x500 with 1 Axes>"
      ]
     },
     "metadata": {},
     "output_type": "display_data"
    }
   ],
   "source": [
    "sns.catplot(x = 'Algorithm', y='value', \n",
    "               hue = 'variable',data=performance_df1, kind='bar',height=5)\n",
    "plt.ylim(0.5,1.0)\n",
    "plt.xticks(rotation='vertical')\n",
    "plt.show()"
   ]
  },
  {
   "cell_type": "code",
   "execution_count": 111,
   "id": "b36faeac",
   "metadata": {},
   "outputs": [],
   "source": [
    "# model improve\n",
    "# 1. Change the max_features parameter of TfIdf"
   ]
  },
  {
   "cell_type": "code",
   "execution_count": 112,
   "id": "231b2c67",
   "metadata": {},
   "outputs": [],
   "source": [
    "temp_df = pd.DataFrame({'Algorithm':clfs.keys(),'Accuracy_max_ft':accuracy_scores,'Precision_max_ft':precision_scores}).sort_values('Precision_max_ft',ascending=False)"
   ]
  },
  {
   "cell_type": "code",
   "execution_count": 113,
   "id": "d6c44dc0",
   "metadata": {},
   "outputs": [],
   "source": [
    "temp_df = pd.DataFrame({'Algorithm':clfs.keys(),'Accuracy_scaling':accuracy_scores,'Precision_scaling':precision_scores}).sort_values('Precision_scaling',ascending=False)"
   ]
  },
  {
   "cell_type": "code",
   "execution_count": 114,
   "id": "401c5f50",
   "metadata": {},
   "outputs": [],
   "source": [
    "new_df = performance_df.merge(temp_df,on='Algorithm')"
   ]
  },
  {
   "cell_type": "code",
   "execution_count": 115,
   "id": "200919bd",
   "metadata": {},
   "outputs": [],
   "source": [
    "new_df_scaled = new_df.merge(temp_df,on='Algorithm')"
   ]
  },
  {
   "cell_type": "code",
   "execution_count": 116,
   "id": "23bc6b1f",
   "metadata": {},
   "outputs": [],
   "source": [
    "temp_df = pd.DataFrame({'Algorithm':clfs.keys(),'Accuracy_num_chars':accuracy_scores,'Precision_num_chars':precision_scores}).sort_values('Precision_num_chars',ascending=False)"
   ]
  },
  {
   "cell_type": "code",
   "execution_count": 117,
   "id": "129f1fdc",
   "metadata": {},
   "outputs": [
    {
     "data": {
      "text/html": [
       "<div>\n",
       "<style scoped>\n",
       "    .dataframe tbody tr th:only-of-type {\n",
       "        vertical-align: middle;\n",
       "    }\n",
       "\n",
       "    .dataframe tbody tr th {\n",
       "        vertical-align: top;\n",
       "    }\n",
       "\n",
       "    .dataframe thead th {\n",
       "        text-align: right;\n",
       "    }\n",
       "</style>\n",
       "<table border=\"1\" class=\"dataframe\">\n",
       "  <thead>\n",
       "    <tr style=\"text-align: right;\">\n",
       "      <th></th>\n",
       "      <th>Algorithm</th>\n",
       "      <th>Accuracy</th>\n",
       "      <th>Precision</th>\n",
       "      <th>Accuracy_scaling_x</th>\n",
       "      <th>Precision_scaling_x</th>\n",
       "      <th>Accuracy_scaling_y</th>\n",
       "      <th>Precision_scaling_y</th>\n",
       "      <th>Accuracy_num_chars</th>\n",
       "      <th>Precision_num_chars</th>\n",
       "    </tr>\n",
       "  </thead>\n",
       "  <tbody>\n",
       "    <tr>\n",
       "      <th>0</th>\n",
       "      <td>NB</td>\n",
       "      <td>0.961231</td>\n",
       "      <td>0.977366</td>\n",
       "      <td>0.961231</td>\n",
       "      <td>0.977366</td>\n",
       "      <td>0.961231</td>\n",
       "      <td>0.977366</td>\n",
       "      <td>0.961231</td>\n",
       "      <td>0.977366</td>\n",
       "    </tr>\n",
       "    <tr>\n",
       "      <th>1</th>\n",
       "      <td>SVC</td>\n",
       "      <td>0.966154</td>\n",
       "      <td>0.963366</td>\n",
       "      <td>0.966154</td>\n",
       "      <td>0.963366</td>\n",
       "      <td>0.966154</td>\n",
       "      <td>0.963366</td>\n",
       "      <td>0.966154</td>\n",
       "      <td>0.963366</td>\n",
       "    </tr>\n",
       "    <tr>\n",
       "      <th>2</th>\n",
       "      <td>ETC</td>\n",
       "      <td>0.955692</td>\n",
       "      <td>0.959041</td>\n",
       "      <td>0.955692</td>\n",
       "      <td>0.959041</td>\n",
       "      <td>0.955692</td>\n",
       "      <td>0.959041</td>\n",
       "      <td>0.955692</td>\n",
       "      <td>0.959041</td>\n",
       "    </tr>\n",
       "    <tr>\n",
       "      <th>3</th>\n",
       "      <td>RF</td>\n",
       "      <td>0.942769</td>\n",
       "      <td>0.942801</td>\n",
       "      <td>0.942769</td>\n",
       "      <td>0.942801</td>\n",
       "      <td>0.942769</td>\n",
       "      <td>0.942801</td>\n",
       "      <td>0.942769</td>\n",
       "      <td>0.942801</td>\n",
       "    </tr>\n",
       "    <tr>\n",
       "      <th>4</th>\n",
       "      <td>LR</td>\n",
       "      <td>0.937846</td>\n",
       "      <td>0.922201</td>\n",
       "      <td>0.937846</td>\n",
       "      <td>0.922201</td>\n",
       "      <td>0.937846</td>\n",
       "      <td>0.922201</td>\n",
       "      <td>0.937846</td>\n",
       "      <td>0.922201</td>\n",
       "    </tr>\n",
       "    <tr>\n",
       "      <th>5</th>\n",
       "      <td>AdaBoost</td>\n",
       "      <td>0.904000</td>\n",
       "      <td>0.883379</td>\n",
       "      <td>0.904000</td>\n",
       "      <td>0.883379</td>\n",
       "      <td>0.904000</td>\n",
       "      <td>0.883379</td>\n",
       "      <td>0.904000</td>\n",
       "      <td>0.883379</td>\n",
       "    </tr>\n",
       "    <tr>\n",
       "      <th>6</th>\n",
       "      <td>DT</td>\n",
       "      <td>0.753231</td>\n",
       "      <td>0.715328</td>\n",
       "      <td>0.753231</td>\n",
       "      <td>0.715328</td>\n",
       "      <td>0.753231</td>\n",
       "      <td>0.715328</td>\n",
       "      <td>0.753231</td>\n",
       "      <td>0.715328</td>\n",
       "    </tr>\n",
       "    <tr>\n",
       "      <th>7</th>\n",
       "      <td>KN</td>\n",
       "      <td>0.632615</td>\n",
       "      <td>0.624055</td>\n",
       "      <td>0.632615</td>\n",
       "      <td>0.624055</td>\n",
       "      <td>0.632615</td>\n",
       "      <td>0.624055</td>\n",
       "      <td>0.632615</td>\n",
       "      <td>0.624055</td>\n",
       "    </tr>\n",
       "  </tbody>\n",
       "</table>\n",
       "</div>"
      ],
      "text/plain": [
       "  Algorithm  Accuracy  Precision  Accuracy_scaling_x  Precision_scaling_x  \\\n",
       "0        NB  0.961231   0.977366            0.961231             0.977366   \n",
       "1       SVC  0.966154   0.963366            0.966154             0.963366   \n",
       "2       ETC  0.955692   0.959041            0.955692             0.959041   \n",
       "3        RF  0.942769   0.942801            0.942769             0.942801   \n",
       "4        LR  0.937846   0.922201            0.937846             0.922201   \n",
       "5  AdaBoost  0.904000   0.883379            0.904000             0.883379   \n",
       "6        DT  0.753231   0.715328            0.753231             0.715328   \n",
       "7        KN  0.632615   0.624055            0.632615             0.624055   \n",
       "\n",
       "   Accuracy_scaling_y  Precision_scaling_y  Accuracy_num_chars  \\\n",
       "0            0.961231             0.977366            0.961231   \n",
       "1            0.966154             0.963366            0.966154   \n",
       "2            0.955692             0.959041            0.955692   \n",
       "3            0.942769             0.942801            0.942769   \n",
       "4            0.937846             0.922201            0.937846   \n",
       "5            0.904000             0.883379            0.904000   \n",
       "6            0.753231             0.715328            0.753231   \n",
       "7            0.632615             0.624055            0.632615   \n",
       "\n",
       "   Precision_num_chars  \n",
       "0             0.977366  \n",
       "1             0.963366  \n",
       "2             0.959041  \n",
       "3             0.942801  \n",
       "4             0.922201  \n",
       "5             0.883379  \n",
       "6             0.715328  \n",
       "7             0.624055  "
      ]
     },
     "execution_count": 117,
     "metadata": {},
     "output_type": "execute_result"
    }
   ],
   "source": [
    "new_df_scaled.merge(temp_df,on='Algorithm')"
   ]
  },
  {
   "cell_type": "code",
   "execution_count": 118,
   "id": "9df1eefd",
   "metadata": {},
   "outputs": [],
   "source": [
    "# Applying stacking\n",
    "estimators=[('svm', svc), ('nb', mnb), ('et', etc)]\n",
    "final_estimator=RandomForestClassifier()"
   ]
  },
  {
   "cell_type": "code",
   "execution_count": null,
   "id": "4cd689a2",
   "metadata": {},
   "outputs": [],
   "source": []
  },
  {
   "cell_type": "code",
   "execution_count": 119,
   "id": "08c14dd5",
   "metadata": {},
   "outputs": [],
   "source": [
    "#Stacking is an ensemble learning technique to combine multiple classification models via a meta-classifier.\n",
    "#stacking classifier is an ensemble learning method that combines multiple classification models to create one “super” model\n",
    "clf = StackingClassifier(estimators=estimators, final_estimator=final_estimator)"
   ]
  },
  {
   "cell_type": "code",
   "execution_count": 120,
   "id": "2c841ef0",
   "metadata": {},
   "outputs": [],
   "source": [
    "clf.fit(X_train,y_train)\n",
    "y_pred = clf.predict(X_test)\n"
   ]
  },
  {
   "cell_type": "code",
   "execution_count": 121,
   "id": "d60c4e9f",
   "metadata": {},
   "outputs": [
    {
     "name": "stdout",
     "output_type": "stream",
     "text": [
      "Accuracy 0.968\n",
      "Precision 0.9776195320447609\n"
     ]
    }
   ],
   "source": [
    "print(\"Accuracy\",accuracy_score(y_test,y_pred))\n",
    "print(\"Precision\",precision_score(y_test,y_pred))"
   ]
  },
  {
   "cell_type": "markdown",
   "id": "59750646",
   "metadata": {},
   "source": [
    "# summmary of evalution models"
   ]
  },
  {
   "cell_type": "markdown",
   "id": "91ec5e45",
   "metadata": {},
   "source": [
    "The classifiers are initialized with specific configurations. SVC uses a sigmoid kernel with gamma set to 1.0, K-Nearest Neighbors (KNC) and Multinomial Naive Bayes (MNB) use default configurations, Decision Tree Classifier (DTC) has a maximum depth of 5, Logistic Regression Classifier (LRC) uses 'liblinear' solver with 'l1' penalty, Random Forest Classifier (RFC) has 50 estimators with a random state of 2, AdaBoost Classifier (ABC) and Extra Trees Classifier (ETC) both have 50 estimators with a random state of 2\n",
    " will access the accuracy and precision scores of mnb from the accuracy_scores and precision_scores lists, respectively. Then, it will print the conclusion stating that mnb is the highest performing model based on these scores"
   ]
  },
  {
   "cell_type": "markdown",
   "id": "fcc711c6",
   "metadata": {},
   "source": [
    "# 7. Website"
   ]
  },
  {
   "cell_type": "code",
   "execution_count": 122,
   "id": "06e4f088",
   "metadata": {},
   "outputs": [
    {
     "ename": "NameError",
     "evalue": "name 'pickle' is not defined",
     "output_type": "error",
     "traceback": [
      "\u001b[1;31m---------------------------------------------------------------------------\u001b[0m",
      "\u001b[1;31mNameError\u001b[0m                                 Traceback (most recent call last)",
      "Cell \u001b[1;32mIn[122], line 4\u001b[0m\n\u001b[0;32m      1\u001b[0m \u001b[38;5;66;03m#Pickle is a useful Python tool that allows you to save your ML models\u001b[39;00m\n\u001b[0;32m      2\u001b[0m \u001b[38;5;66;03m#to minimise lengthy re-training and allow you to share, commit, and re-load pre-trained machine learning models.\u001b[39;00m\n\u001b[1;32m----> 4\u001b[0m pickle\u001b[38;5;241m.\u001b[39mdump(tfidf,\u001b[38;5;28mopen\u001b[39m(\u001b[38;5;124m'\u001b[39m\u001b[38;5;124mvectorizer.pkl\u001b[39m\u001b[38;5;124m'\u001b[39m,\u001b[38;5;124m'\u001b[39m\u001b[38;5;124mwb\u001b[39m\u001b[38;5;124m'\u001b[39m))\n\u001b[0;32m      5\u001b[0m pickle\u001b[38;5;241m.\u001b[39mdump(mnb,\u001b[38;5;28mopen\u001b[39m(\u001b[38;5;124m'\u001b[39m\u001b[38;5;124mmodel.pkl\u001b[39m\u001b[38;5;124m'\u001b[39m,\u001b[38;5;124m'\u001b[39m\u001b[38;5;124mwb\u001b[39m\u001b[38;5;124m'\u001b[39m))\n",
      "\u001b[1;31mNameError\u001b[0m: name 'pickle' is not defined"
     ]
    }
   ],
   "source": [
    "#Pickle is a useful Python tool that allows you to save your ML models\n",
    "#to minimise lengthy re-training and allow you to share, commit, and re-load pre-trained machine learning models.\n",
    "\n",
    "pickle.dump(tfidf,open('vectorizer.pkl','wb'))\n",
    "pickle.dump(mnb,open('model.pkl','wb'))"
   ]
  },
  {
   "cell_type": "markdown",
   "id": "922c0b28",
   "metadata": {},
   "source": [
    "The pickle.dump() function is used to save the TF-IDF vectorizer and the SVC model.\n",
    "The TF-IDF vectorizer is saved as 'vectorizer.pkl' and the SVC model is saved as 'model.pkl'.\n",
    "The 'wb' parameter in the open() function indicates that the files should be opened in write mode for binary data.\n",
    "After saving the models, a conclusion message is printed, stating that the TF-IDF vectorizer and SVC model have been successfully saved.\n",
    "It also suggests that the saved models can now be used for future predictions or shared with others."
   ]
  },
  {
   "cell_type": "code",
   "execution_count": null,
   "id": "8514c67d",
   "metadata": {},
   "outputs": [],
   "source": []
  },
  {
   "cell_type": "code",
   "execution_count": null,
   "id": "4312bef3",
   "metadata": {},
   "outputs": [],
   "source": []
  },
  {
   "cell_type": "code",
   "execution_count": null,
   "id": "ad12ab64",
   "metadata": {},
   "outputs": [],
   "source": []
  }
 ],
 "metadata": {
  "kernelspec": {
   "display_name": "Python 3 (ipykernel)",
   "language": "python",
   "name": "python3"
  },
  "language_info": {
   "codemirror_mode": {
    "name": "ipython",
    "version": 3
   },
   "file_extension": ".py",
   "mimetype": "text/x-python",
   "name": "python",
   "nbconvert_exporter": "python",
   "pygments_lexer": "ipython3",
   "version": "3.11.7"
  }
 },
 "nbformat": 4,
 "nbformat_minor": 5
}
